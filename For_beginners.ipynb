{
  "nbformat": 4,
  "nbformat_minor": 0,
  "metadata": {
    "colab": {
      "provenance": [],
      "authorship_tag": "ABX9TyPVtjhcvIP/6NSv+ki+76Uf",
      "include_colab_link": true
    },
    "kernelspec": {
      "name": "python3",
      "display_name": "Python 3"
    },
    "language_info": {
      "name": "python"
    }
  },
  "cells": [
    {
      "cell_type": "markdown",
      "metadata": {
        "id": "view-in-github",
        "colab_type": "text"
      },
      "source": [
        "<a href=\"https://colab.research.google.com/github/Nupur2020/Data-Science/blob/main/For_beginners.ipynb\" target=\"_parent\"><img src=\"https://colab.research.google.com/assets/colab-badge.svg\" alt=\"Open In Colab\"/></a>"
      ]
    },
    {
      "cell_type": "code",
      "source": [
        "from google.colab import drive\n",
        "drive.mount('/content/drive')"
      ],
      "metadata": {
        "colab": {
          "base_uri": "https://localhost:8080/"
        },
        "id": "j2y95mVDHJ_a",
        "outputId": "e9895d72-9b50-45fa-d9de-208c139c82b8"
      },
      "execution_count": null,
      "outputs": [
        {
          "output_type": "stream",
          "name": "stdout",
          "text": [
            "Drive already mounted at /content/drive; to attempt to forcibly remount, call drive.mount(\"/content/drive\", force_remount=True).\n"
          ]
        }
      ]
    },
    {
      "cell_type": "markdown",
      "source": [
        "**To start Python and connect the file to the google drive. The above mentioned code is run and the desired google drive account will be connected**"
      ],
      "metadata": {
        "id": "TDXwBhj-Y205"
      }
    },
    {
      "cell_type": "code",
      "source": [
        "cd /content/drive/MyDrive/\n"
      ],
      "metadata": {
        "colab": {
          "base_uri": "https://localhost:8080/"
        },
        "id": "VWGqNt00Ho43",
        "outputId": "7bb9c81b-fb3d-4a18-9074-2c7cc526e661"
      },
      "execution_count": null,
      "outputs": [
        {
          "output_type": "stream",
          "name": "stdout",
          "text": [
            "/content/drive/MyDrive\n"
          ]
        }
      ]
    },
    {
      "cell_type": "markdown",
      "source": [
        "**Python code to print the desired text**"
      ],
      "metadata": {
        "id": "IQwaJg7XZOKQ"
      }
    },
    {
      "cell_type": "code",
      "source": [
        "print(\"I love pizza\")"
      ],
      "metadata": {
        "colab": {
          "base_uri": "https://localhost:8080/"
        },
        "id": "cmD4Zu7TPs4K",
        "outputId": "34c6a078-1fa7-4de6-922c-d7470c8eabf5"
      },
      "execution_count": null,
      "outputs": [
        {
          "output_type": "stream",
          "name": "stdout",
          "text": [
            "I love pizza\n"
          ]
        }
      ]
    },
    {
      "cell_type": "code",
      "source": [
        "print(\"Its really good!\")"
      ],
      "metadata": {
        "colab": {
          "base_uri": "https://localhost:8080/"
        },
        "id": "Y-uxj9UlYW-e",
        "outputId": "079ed276-d916-4493-98b1-d49139820857"
      },
      "execution_count": null,
      "outputs": [
        {
          "output_type": "stream",
          "name": "stdout",
          "text": [
            "Its really good!\n"
          ]
        }
      ]
    },
    {
      "cell_type": "markdown",
      "source": [
        "**Python variables**"
      ],
      "metadata": {
        "id": "TjFRxlERcywA"
      }
    },
    {
      "cell_type": "code",
      "source": [
        "age=25\n",
        "print(\"you are \" + str(age) + \" years old\")\n",
        "print (\"you are\" ,age, \"years old\")\n",
        "print (f\"you are {age} years old\")"
      ],
      "metadata": {
        "colab": {
          "base_uri": "https://localhost:8080/"
        },
        "id": "NLEbXozZfIOk",
        "outputId": "c562b5c3-1677-4882-b15a-6b4d779a59a9"
      },
      "execution_count": null,
      "outputs": [
        {
          "output_type": "stream",
          "name": "stdout",
          "text": [
            "you are 25 years old\n",
            "you are 25 years old\n",
            "you are 25 years old\n"
          ]
        }
      ]
    },
    {
      "cell_type": "markdown",
      "source": [
        "**Integers**"
      ],
      "metadata": {
        "id": "S_46RSEBg3HM"
      }
    },
    {
      "cell_type": "code",
      "source": [
        "age=25\n",
        "quantity=5\n",
        "players=2\n",
        "print (f\"you are {age} years old\")\n",
        "print(f\"you would like to buy {quantity} items\")\n",
        "print (f\"There are {players} players online\")"
      ],
      "metadata": {
        "colab": {
          "base_uri": "https://localhost:8080/"
        },
        "id": "WT4LVYe7hIdP",
        "outputId": "dc7445c0-9d94-479e-a9ba-c1d17733e35e"
      },
      "execution_count": null,
      "outputs": [
        {
          "output_type": "stream",
          "name": "stdout",
          "text": [
            "you are 25 years old\n",
            "you would like to buy 5 items\n",
            "There are 2 players online\n"
          ]
        }
      ]
    },
    {
      "cell_type": "markdown",
      "source": [
        "**Float**"
      ],
      "metadata": {
        "id": "8Ezri7xGiR63"
      }
    },
    {
      "cell_type": "code",
      "source": [
        "gpa=4.5\n",
        "distance=5.3\n",
        "price=9.99\n",
        "print (f\"your gpa is {gpa}\")\n",
        "print (f\"you ran {distance}km\")\n",
        "print (f\"The price is ${price}\")"
      ],
      "metadata": {
        "colab": {
          "base_uri": "https://localhost:8080/"
        },
        "id": "JDqQTbeHiTii",
        "outputId": "7f226b9a-507f-442a-f854-8208736f5125"
      },
      "execution_count": null,
      "outputs": [
        {
          "output_type": "stream",
          "name": "stdout",
          "text": [
            "your gpa is 4.5\n",
            "you ran 5.3km\n",
            "The price is $9.99\n"
          ]
        }
      ]
    },
    {
      "cell_type": "markdown",
      "source": [
        "**String**"
      ],
      "metadata": {
        "id": "SzoR_bzhkJax"
      }
    },
    {
      "cell_type": "code",
      "source": [
        "Name= \"Aman\"\n",
        "Food= \"Pasta\"\n",
        "email= \"Aman12@gmail.com\"\n",
        "print (f\"Hello {Name}\")\n",
        "print (f\"you like {Food}\")\n",
        "print (f\"your email is : {email}\")\n"
      ],
      "metadata": {
        "colab": {
          "base_uri": "https://localhost:8080/"
        },
        "id": "Fcd3reYIkj23",
        "outputId": "a6bdb225-3375-4ea0-f26c-9e834ae6dbfb"
      },
      "execution_count": null,
      "outputs": [
        {
          "output_type": "stream",
          "name": "stdout",
          "text": [
            "Hello Aman\n",
            "you like Pasta\n",
            "your email is : Aman12@gmail.com\n"
          ]
        }
      ]
    },
    {
      "cell_type": "markdown",
      "source": [
        "**Boolean**"
      ],
      "metadata": {
        "id": "aOHJ5QhAlS0X"
      }
    },
    {
      "cell_type": "code",
      "source": [
        "online = True\n",
        "for_sale = False\n",
        "running = True\n",
        "print (f\"Are you online?: {online}\")\n",
        "print (f\"Is the item for sale? {for_sale}\")\n",
        "print (f\"Game running : {running}\")"
      ],
      "metadata": {
        "colab": {
          "base_uri": "https://localhost:8080/"
        },
        "id": "uCUKC74blVQm",
        "outputId": "d41e5f3d-8eb2-403a-f235-7ee13cc1d346"
      },
      "execution_count": null,
      "outputs": [
        {
          "output_type": "stream",
          "name": "stdout",
          "text": [
            "Are you online?: True\n",
            "Is the item for sale? False\n",
            "Game running : True\n"
          ]
        }
      ]
    },
    {
      "cell_type": "code",
      "source": [
        "x=y=z=3\n",
        "print(x)\n",
        "print(y)\n",
        "print(z)\n",
        "print (x, y,z)"
      ],
      "metadata": {
        "colab": {
          "base_uri": "https://localhost:8080/"
        },
        "id": "aOWWdwNcm8H0",
        "outputId": "fab26f82-950e-4793-ea41-2da684c155a8"
      },
      "execution_count": null,
      "outputs": [
        {
          "output_type": "stream",
          "name": "stdout",
          "text": [
            "3\n",
            "3\n",
            "3\n",
            "3 3 3\n"
          ]
        }
      ]
    },
    {
      "cell_type": "markdown",
      "source": [
        "**Typecasting- Explicit vs implicit**"
      ],
      "metadata": {
        "id": "ffMuCE1RO4sZ"
      }
    },
    {
      "cell_type": "code",
      "source": [
        "Name = \"Ciya\"\n",
        "gpa = 2.3\n",
        "age = 25\n",
        "Student = True\n",
        "\n",
        "print(type(Name))\n",
        "print(type(gpa))\n",
        "print(type(age))\n",
        "print(type(Student))\n",
        "\n",
        "age = float(age)\n",
        "print(age)\n",
        "print(type(age))\n",
        "\n",
        "gpa = int(gpa)\n",
        "print(gpa)\n",
        "print(type(gpa))\n",
        "\n",
        "Student = str(Student)\n",
        "print(Student)\n",
        "print(type(Student))\n",
        "\n",
        "age = bool(age)\n",
        "print(age)\n",
        "print(type(age))\n",
        "\n",
        "Name = bool(Name)\n",
        "print(Name)\n",
        "print(type(Name))\n",
        "\n",
        "x = 2\n",
        "y = 2.0\n",
        "print(type(x))\n",
        "x = x/y\n",
        "print(x)\n",
        "print(type(x))"
      ],
      "metadata": {
        "colab": {
          "base_uri": "https://localhost:8080/"
        },
        "id": "y5clrib_O7aY",
        "outputId": "68eeb4d3-bf47-4ba0-82d9-6b60a08e70d5"
      },
      "execution_count": null,
      "outputs": [
        {
          "output_type": "stream",
          "name": "stdout",
          "text": [
            "<class 'str'>\n",
            "<class 'float'>\n",
            "<class 'int'>\n",
            "<class 'bool'>\n",
            "25.0\n",
            "<class 'float'>\n",
            "2\n",
            "<class 'int'>\n",
            "True\n",
            "<class 'str'>\n",
            "True\n",
            "<class 'bool'>\n",
            "True\n",
            "<class 'bool'>\n",
            "<class 'int'>\n",
            "1.0\n",
            "<class 'float'>\n"
          ]
        }
      ]
    },
    {
      "cell_type": "markdown",
      "source": [
        "**User input function**"
      ],
      "metadata": {
        "id": "O7-bFL22Tp2m"
      }
    },
    {
      "cell_type": "code",
      "source": [
        "name = input(\"Enter your name: \")\n",
        "age= input(\"Enter your age: \")\n",
        "age = int(age)\n",
        "age = float(input(\"Enter your age: \"))\n",
        "age = age+1\n",
        "print(f\"Hello {name}\")\n",
        "print(f\"you are {age} years old\")\n"
      ],
      "metadata": {
        "colab": {
          "base_uri": "https://localhost:8080/"
        },
        "id": "URUqhNshT91z",
        "outputId": "fc684d31-a777-4b10-bde1-993de5ec96e6"
      },
      "execution_count": null,
      "outputs": [
        {
          "output_type": "stream",
          "name": "stdout",
          "text": [
            "Enter your name: Ciya\n",
            "Enter your age: 25\n",
            "Enter your age: 25\n",
            "Hello Ciya\n",
            "you are 26.0 years old\n"
          ]
        }
      ]
    },
    {
      "cell_type": "markdown",
      "source": [
        "**Example exercise- Madlibs**"
      ],
      "metadata": {
        "id": "Fo9dRdnKV2c4"
      }
    },
    {
      "cell_type": "code",
      "source": [
        "adjective = input(\"Enter an adjective: \")\n",
        "noun = input(\"Enter a noun: \")\n",
        "adjective1 = input(\"Enter an adjective: \")\n",
        "verb = input(\"Enter a verb: \")\n",
        "adjective2 = input(\"Enter an adjective: \")\n",
        "\n",
        "print(f\"Today I went to a {adjective} zoo\")\n",
        "print(f\"In an exhibit i saw {noun}\")\n",
        "print(f\"{noun} was {adjective1} and {verb}ing\")\n",
        "print(f\"I was {adjective2}\")"
      ],
      "metadata": {
        "colab": {
          "base_uri": "https://localhost:8080/"
        },
        "id": "1sQbWdESV6z9",
        "outputId": "1db8c7e0-b643-46fd-ca1e-a2fd103f2c61"
      },
      "execution_count": null,
      "outputs": [
        {
          "output_type": "stream",
          "name": "stdout",
          "text": [
            "Enter an adjective: Vast\n",
            "Enter a noun: Monkey\n",
            "Enter an adjective: Dirty\n",
            "Enter a verb: climb\n",
            "Enter an adjective: Shocked\n",
            "Today I went to a Vast zoo\n",
            "In an exhibit i saw Monkey\n",
            "Monkey was Dirty and climbing\n",
            "I was Shocked\n"
          ]
        }
      ]
    },
    {
      "cell_type": "markdown",
      "source": [
        "**Example exercise - Area Calculator**"
      ],
      "metadata": {
        "id": "ish_jlpdbzgh"
      }
    },
    {
      "cell_type": "code",
      "source": [
        "from os import W_OK\n",
        "length = float(input(\"Enter the length of a rectangle: \"))\n",
        "Width = float(input(\"Enter the width of a rectangle: \"))\n",
        "height = float(input(\"Enter the height of a rectangle: \"))\n",
        "\n",
        "volume = length*Width*height\n",
        "print(f\"The volume of a rectangle is {volume}cm^3\")\n",
        "\n",
        "length = float(input(\"Enter the length of a rectangle: \"))\n",
        "Width = float(input(\"Enter the width of a rectangle: \"))\n",
        "\n",
        "area = length*Width\n",
        "print(f\"The area of a rectangle is {area}cm^2\")"
      ],
      "metadata": {
        "colab": {
          "base_uri": "https://localhost:8080/"
        },
        "id": "uau4kq-yb79A",
        "outputId": "fce244b3-60f6-4130-b85e-81fefca75751"
      },
      "execution_count": null,
      "outputs": [
        {
          "output_type": "stream",
          "name": "stdout",
          "text": [
            "Enter the length of a rectangle: 7\n",
            "Enter the width of a rectangle: 4\n",
            "Enter the height of a rectangle: 5\n",
            "The volume of a rectangle is 140.0cm^3\n",
            "Enter the length of a rectangle: 7\n",
            "Enter the width of a rectangle: 4\n",
            "The area of a rectangle is 28.0cm^2\n"
          ]
        }
      ]
    },
    {
      "cell_type": "markdown",
      "source": [
        "**Example exercise-Shopping cart**"
      ],
      "metadata": {
        "id": "Cbch-chWfax3"
      }
    },
    {
      "cell_type": "code",
      "source": [
        "item = input(\"What item would you like to buy?:\")\n",
        "price = float(input(\"what is the price?: \"))\n",
        "quantity = int(input(\"How many would you like?: \"))\n",
        "\n",
        "total = price*quantity\n",
        "print(f\"you have bought {quantity} x {item}/s\")\n",
        "print(f\"your total is ${total}\")"
      ],
      "metadata": {
        "colab": {
          "base_uri": "https://localhost:8080/"
        },
        "id": "xzNB98xNgaZn",
        "outputId": "a65e7c45-2632-494b-ffca-e7b592ed6885"
      },
      "execution_count": null,
      "outputs": [
        {
          "output_type": "stream",
          "name": "stdout",
          "text": [
            "What item would you like to buy?:apple\n",
            "what is the price?: 40\n",
            "How many would you like?: 11\n",
            "you have bought 11 x apple/s\n",
            "your total is $440.0\n"
          ]
        }
      ]
    },
    {
      "cell_type": "markdown",
      "source": [
        "**Math in Python**"
      ],
      "metadata": {
        "id": "QcmO0it3GXDV"
      }
    },
    {
      "cell_type": "code",
      "source": [
        "Onions = 5\n",
        "#Onions = Onions+1\n",
        "#Onions +=1\n",
        "#Onions = Onions-2\n",
        "#Onions -=2\n",
        "#Onions = Onions*2\n",
        "#Onions *=2\n",
        "#Onions = Onions/2\n",
        "#Onions /=2\n",
        "#Onions = Onions **2\n",
        "#Onions **=2\n",
        "remainder = Onions%2\n",
        "\n",
        "\n",
        "print(remainder)"
      ],
      "metadata": {
        "colab": {
          "base_uri": "https://localhost:8080/"
        },
        "id": "6cdUVowfGaW5",
        "outputId": "807210e3-ecc6-4480-8e28-9d4b97cad272"
      },
      "execution_count": 9,
      "outputs": [
        {
          "output_type": "stream",
          "name": "stdout",
          "text": [
            "1\n"
          ]
        }
      ]
    },
    {
      "cell_type": "code",
      "source": [
        "x = 2.1\n",
        "y = 4\n",
        "z = 5\n",
        "result = round(x)\n",
        "result = abs(y)\n",
        "result = pow(4,2)\n",
        "result = max(x,y,z)\n",
        "result = min(x,y,z)\n",
        "\n",
        "print (result)"
      ],
      "metadata": {
        "colab": {
          "base_uri": "https://localhost:8080/"
        },
        "id": "34H51IXubjz4",
        "outputId": "154cdfbc-8512-4366-92fe-1d274ff298a7"
      },
      "execution_count": 14,
      "outputs": [
        {
          "output_type": "stream",
          "name": "stdout",
          "text": [
            "2.1\n"
          ]
        }
      ]
    },
    {
      "cell_type": "code",
      "source": [
        "import math\n",
        "x = 16.2\n",
        "\n",
        "print(math.pi)\n",
        "print(math.e)\n",
        "result = math.sqrt(x)\n",
        "result = math.ceil(x)\n",
        "result = math.floor(x)\n",
        "\n",
        "print(result)\n",
        "\n",
        "\n"
      ],
      "metadata": {
        "colab": {
          "base_uri": "https://localhost:8080/"
        },
        "id": "NEiFZifAcobB",
        "outputId": "312068a3-887e-4a42-c26f-6e58102c729b"
      },
      "execution_count": 20,
      "outputs": [
        {
          "output_type": "stream",
          "name": "stdout",
          "text": [
            "3.141592653589793\n",
            "2.718281828459045\n",
            "16\n"
          ]
        }
      ]
    },
    {
      "cell_type": "markdown",
      "source": [
        "**Circumference calculation**"
      ],
      "metadata": {
        "id": "vQiZDrxldwdZ"
      }
    },
    {
      "cell_type": "code",
      "source": [
        "import math\n",
        "\n",
        "radius = float(input('Enter the radius of a circle: ' ))\n",
        "\n",
        "circumference = 2*math.pi*radius\n",
        "\n",
        "print(f\"the circumference of a circle is: {circumference}cm\")\n",
        "print(f\"the circumference of a circle is: {round(circumference,2)}cm\")\n"
      ],
      "metadata": {
        "colab": {
          "base_uri": "https://localhost:8080/"
        },
        "id": "NAz8E6RKdvY5",
        "outputId": "90ac4fd5-d46c-45c9-84ce-b4513d055545"
      },
      "execution_count": 27,
      "outputs": [
        {
          "output_type": "stream",
          "name": "stdout",
          "text": [
            "Enter the radius of a circle: 5.7\n",
            "the circumference of a circle is: 35.814156250923645cm\n",
            "the circumference of a circle is: 35.81cm\n"
          ]
        }
      ]
    },
    {
      "cell_type": "markdown",
      "source": [
        "**Area calculation**"
      ],
      "metadata": {
        "id": "F9sfLZ53fe9S"
      }
    },
    {
      "cell_type": "code",
      "source": [
        "import math\n",
        "\n",
        "radius = float(input('Enter the radius of a circle: ' ))\n",
        "\n",
        "Area = math.pi* pow(radius,2)\n",
        "\n",
        "print(f\"the area of a circle is: {Area}cm^2\")\n",
        "print(f\"the circumference of a circle is: {round(Area,2)}cm^2\")"
      ],
      "metadata": {
        "colab": {
          "base_uri": "https://localhost:8080/"
        },
        "id": "GgbdzR1SfmS4",
        "outputId": "a1e68df7-ccdb-4105-81d5-f7252e1b9d09"
      },
      "execution_count": 29,
      "outputs": [
        {
          "output_type": "stream",
          "name": "stdout",
          "text": [
            "Enter the radius of a circle: 5.7\n",
            "the area of a circle is: 102.07034531513239cm^2\n",
            "the circumference of a circle is: 102.07cm^2\n"
          ]
        }
      ]
    },
    {
      "cell_type": "markdown",
      "source": [
        "**Hypotunese of a Triangle**"
      ],
      "metadata": {
        "id": "_9FWMs13gK6G"
      }
    },
    {
      "cell_type": "code",
      "source": [
        "import math\n",
        "\n",
        "a = float(input('Enter the length of side A: '))\n",
        "b = float(input('Enter the length of side B: '))\n",
        "\n",
        "c = math.sqrt(pow(a,2) + pow(b,2))\n",
        "\n",
        "print(f\"Side C is {c} \")\n",
        "print(f\"Side C is {round(c,2)}\")"
      ],
      "metadata": {
        "colab": {
          "base_uri": "https://localhost:8080/"
        },
        "id": "m6PVLp-6gP0z",
        "outputId": "82767b97-2c95-4a75-878e-0b2f6385f3c1"
      },
      "execution_count": 31,
      "outputs": [
        {
          "output_type": "stream",
          "name": "stdout",
          "text": [
            "Enter the length of side A: 5\n",
            "Enter the length of side B: 6\n",
            "Side C is 7.810249675906654 \n",
            "Side C is 7.81\n"
          ]
        }
      ]
    },
    {
      "cell_type": "markdown",
      "source": [
        "**if statement or Else**"
      ],
      "metadata": {
        "id": "zhSJaSREhobu"
      }
    },
    {
      "cell_type": "code",
      "source": [
        "age = int(input('Enter your age: '))\n",
        "\n",
        "\n",
        "if age >= 100:\n",
        "    print(f\"you are too old to sign up\")\n",
        "elif age >= 18:\n",
        "   print(f\"you are now signed up\")\n",
        "elif age <= 11:\n",
        "    print(f\"you are too young to sign up\")\n",
        "else:\n",
        "    print(f\"you need to be 18+ to sign up\")"
      ],
      "metadata": {
        "colab": {
          "base_uri": "https://localhost:8080/"
        },
        "id": "2_XlPISRhrUs",
        "outputId": "cb8cec96-5688-4d0c-89c2-73622460ea52"
      },
      "execution_count": 39,
      "outputs": [
        {
          "output_type": "stream",
          "name": "stdout",
          "text": [
            "Enter your age: 10\n",
            "you are too young to sign up\n"
          ]
        }
      ]
    },
    {
      "cell_type": "code",
      "source": [
        "name = input('Enter your name:')\n",
        "\n",
        "if name == \"\" :\n",
        "    print(f\"you have not entered your name\")\n",
        "else:\n",
        "    print(f\"Hello {name}\")\n"
      ],
      "metadata": {
        "colab": {
          "base_uri": "https://localhost:8080/"
        },
        "id": "Obp6VW_7khS3",
        "outputId": "455ee461-c6f7-490d-a661-050d7d8708f3"
      },
      "execution_count": 43,
      "outputs": [
        {
          "output_type": "stream",
          "name": "stdout",
          "text": [
            "Enter your name:Ciya\n",
            "Hello Ciya\n"
          ]
        }
      ]
    },
    {
      "cell_type": "code",
      "source": [
        "Online = False\n",
        "\n",
        "if Online:\n",
        "    print(f\"the user is Online\")\n",
        "else:\n",
        "    print(f\"the user is offline\")"
      ],
      "metadata": {
        "colab": {
          "base_uri": "https://localhost:8080/"
        },
        "id": "xZ5UYrpDlSnB",
        "outputId": "42405d65-6c28-4387-ad9b-1051e3ca23aa"
      },
      "execution_count": 48,
      "outputs": [
        {
          "output_type": "stream",
          "name": "stdout",
          "text": [
            "the user is offline\n"
          ]
        }
      ]
    }
  ]
}