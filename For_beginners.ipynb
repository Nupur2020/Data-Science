{
  "nbformat": 4,
  "nbformat_minor": 0,
  "metadata": {
    "colab": {
      "provenance": [],
      "authorship_tag": "ABX9TyNwm5fPw/U5STVXHxiyUkPw",
      "include_colab_link": true
    },
    "kernelspec": {
      "name": "python3",
      "display_name": "Python 3"
    },
    "language_info": {
      "name": "python"
    }
  },
  "cells": [
    {
      "cell_type": "markdown",
      "metadata": {
        "id": "view-in-github",
        "colab_type": "text"
      },
      "source": [
        "<a href=\"https://colab.research.google.com/github/Nupur2020/Data-Science/blob/main/For_beginners.ipynb\" target=\"_parent\"><img src=\"https://colab.research.google.com/assets/colab-badge.svg\" alt=\"Open In Colab\"/></a>"
      ]
    },
    {
      "cell_type": "code",
      "source": [
        "from google.colab import drive\n",
        "drive.mount('/content/drive')"
      ],
      "metadata": {
        "colab": {
          "base_uri": "https://localhost:8080/"
        },
        "id": "j2y95mVDHJ_a",
        "outputId": "e9895d72-9b50-45fa-d9de-208c139c82b8"
      },
      "execution_count": null,
      "outputs": [
        {
          "output_type": "stream",
          "name": "stdout",
          "text": [
            "Drive already mounted at /content/drive; to attempt to forcibly remount, call drive.mount(\"/content/drive\", force_remount=True).\n"
          ]
        }
      ]
    },
    {
      "cell_type": "markdown",
      "source": [
        "**To start Python and connect the file to the google drive. The above mentioned code is run and the desired google drive account will be connected**"
      ],
      "metadata": {
        "id": "TDXwBhj-Y205"
      }
    },
    {
      "cell_type": "code",
      "source": [
        "cd /content/drive/MyDrive/\n"
      ],
      "metadata": {
        "colab": {
          "base_uri": "https://localhost:8080/"
        },
        "id": "VWGqNt00Ho43",
        "outputId": "7bb9c81b-fb3d-4a18-9074-2c7cc526e661"
      },
      "execution_count": null,
      "outputs": [
        {
          "output_type": "stream",
          "name": "stdout",
          "text": [
            "/content/drive/MyDrive\n"
          ]
        }
      ]
    },
    {
      "cell_type": "markdown",
      "source": [
        "**Python code to print the desired text**"
      ],
      "metadata": {
        "id": "IQwaJg7XZOKQ"
      }
    },
    {
      "cell_type": "code",
      "source": [
        "print(\"I love pizza\")"
      ],
      "metadata": {
        "colab": {
          "base_uri": "https://localhost:8080/"
        },
        "id": "cmD4Zu7TPs4K",
        "outputId": "34c6a078-1fa7-4de6-922c-d7470c8eabf5"
      },
      "execution_count": null,
      "outputs": [
        {
          "output_type": "stream",
          "name": "stdout",
          "text": [
            "I love pizza\n"
          ]
        }
      ]
    },
    {
      "cell_type": "code",
      "source": [
        "print(\"Its really good!\")"
      ],
      "metadata": {
        "colab": {
          "base_uri": "https://localhost:8080/"
        },
        "id": "Y-uxj9UlYW-e",
        "outputId": "079ed276-d916-4493-98b1-d49139820857"
      },
      "execution_count": null,
      "outputs": [
        {
          "output_type": "stream",
          "name": "stdout",
          "text": [
            "Its really good!\n"
          ]
        }
      ]
    },
    {
      "cell_type": "markdown",
      "source": [
        "**Python variables**"
      ],
      "metadata": {
        "id": "TjFRxlERcywA"
      }
    },
    {
      "cell_type": "code",
      "source": [
        "age=25\n",
        "print(\"you are \" + str(age) + \" years old\")\n",
        "print (\"you are\" ,age, \"years old\")\n",
        "print (f\"you are {age} years old\")"
      ],
      "metadata": {
        "colab": {
          "base_uri": "https://localhost:8080/"
        },
        "id": "NLEbXozZfIOk",
        "outputId": "c562b5c3-1677-4882-b15a-6b4d779a59a9"
      },
      "execution_count": null,
      "outputs": [
        {
          "output_type": "stream",
          "name": "stdout",
          "text": [
            "you are 25 years old\n",
            "you are 25 years old\n",
            "you are 25 years old\n"
          ]
        }
      ]
    },
    {
      "cell_type": "markdown",
      "source": [
        "**Integers**"
      ],
      "metadata": {
        "id": "S_46RSEBg3HM"
      }
    },
    {
      "cell_type": "code",
      "source": [
        "age=25\n",
        "quantity=5\n",
        "players=2\n",
        "print (f\"you are {age} years old\")\n",
        "print(f\"you would like to buy {quantity} items\")\n",
        "print (f\"There are {players} players online\")"
      ],
      "metadata": {
        "colab": {
          "base_uri": "https://localhost:8080/"
        },
        "id": "WT4LVYe7hIdP",
        "outputId": "dc7445c0-9d94-479e-a9ba-c1d17733e35e"
      },
      "execution_count": null,
      "outputs": [
        {
          "output_type": "stream",
          "name": "stdout",
          "text": [
            "you are 25 years old\n",
            "you would like to buy 5 items\n",
            "There are 2 players online\n"
          ]
        }
      ]
    },
    {
      "cell_type": "markdown",
      "source": [
        "**Float**"
      ],
      "metadata": {
        "id": "8Ezri7xGiR63"
      }
    },
    {
      "cell_type": "code",
      "source": [
        "gpa=4.5\n",
        "distance=5.3\n",
        "price=9.99\n",
        "print (f\"your gpa is {gpa}\")\n",
        "print (f\"you ran {distance}km\")\n",
        "print (f\"The price is ${price}\")"
      ],
      "metadata": {
        "colab": {
          "base_uri": "https://localhost:8080/"
        },
        "id": "JDqQTbeHiTii",
        "outputId": "7f226b9a-507f-442a-f854-8208736f5125"
      },
      "execution_count": null,
      "outputs": [
        {
          "output_type": "stream",
          "name": "stdout",
          "text": [
            "your gpa is 4.5\n",
            "you ran 5.3km\n",
            "The price is $9.99\n"
          ]
        }
      ]
    },
    {
      "cell_type": "markdown",
      "source": [
        "**String**"
      ],
      "metadata": {
        "id": "SzoR_bzhkJax"
      }
    },
    {
      "cell_type": "code",
      "source": [
        "Name= \"Aman\"\n",
        "Food= \"Pasta\"\n",
        "email= \"Aman12@gmail.com\"\n",
        "print (f\"Hello {Name}\")\n",
        "print (f\"you like {Food}\")\n",
        "print (f\"your email is : {email}\")\n"
      ],
      "metadata": {
        "colab": {
          "base_uri": "https://localhost:8080/"
        },
        "id": "Fcd3reYIkj23",
        "outputId": "a6bdb225-3375-4ea0-f26c-9e834ae6dbfb"
      },
      "execution_count": null,
      "outputs": [
        {
          "output_type": "stream",
          "name": "stdout",
          "text": [
            "Hello Aman\n",
            "you like Pasta\n",
            "your email is : Aman12@gmail.com\n"
          ]
        }
      ]
    },
    {
      "cell_type": "markdown",
      "source": [
        "**Boolean**"
      ],
      "metadata": {
        "id": "aOHJ5QhAlS0X"
      }
    },
    {
      "cell_type": "code",
      "source": [
        "online = True\n",
        "for_sale = False\n",
        "running = True\n",
        "print (f\"Are you online?: {online}\")\n",
        "print (f\"Is the item for sale? {for_sale}\")\n",
        "print (f\"Game running : {running}\")"
      ],
      "metadata": {
        "colab": {
          "base_uri": "https://localhost:8080/"
        },
        "id": "uCUKC74blVQm",
        "outputId": "d41e5f3d-8eb2-403a-f235-7ee13cc1d346"
      },
      "execution_count": null,
      "outputs": [
        {
          "output_type": "stream",
          "name": "stdout",
          "text": [
            "Are you online?: True\n",
            "Is the item for sale? False\n",
            "Game running : True\n"
          ]
        }
      ]
    },
    {
      "cell_type": "code",
      "source": [
        "x=y=z=3\n",
        "print(x)\n",
        "print(y)\n",
        "print(z)\n",
        "print (x, y,z)"
      ],
      "metadata": {
        "colab": {
          "base_uri": "https://localhost:8080/"
        },
        "id": "aOWWdwNcm8H0",
        "outputId": "fab26f82-950e-4793-ea41-2da684c155a8"
      },
      "execution_count": null,
      "outputs": [
        {
          "output_type": "stream",
          "name": "stdout",
          "text": [
            "3\n",
            "3\n",
            "3\n",
            "3 3 3\n"
          ]
        }
      ]
    },
    {
      "cell_type": "markdown",
      "source": [
        "**Typecasting- Explicit vs implicit**"
      ],
      "metadata": {
        "id": "ffMuCE1RO4sZ"
      }
    },
    {
      "cell_type": "code",
      "source": [
        "Name = \"Ciya\"\n",
        "gpa = 2.3\n",
        "age = 25\n",
        "Student = True\n",
        "\n",
        "print(type(Name))\n",
        "print(type(gpa))\n",
        "print(type(age))\n",
        "print(type(Student))\n",
        "\n",
        "age = float(age)\n",
        "print(age)\n",
        "print(type(age))\n",
        "\n",
        "gpa = int(gpa)\n",
        "print(gpa)\n",
        "print(type(gpa))\n",
        "\n",
        "Student = str(Student)\n",
        "print(Student)\n",
        "print(type(Student))\n",
        "\n",
        "age = bool(age)\n",
        "print(age)\n",
        "print(type(age))\n",
        "\n",
        "Name = bool(Name)\n",
        "print(Name)\n",
        "print(type(Name))\n",
        "\n",
        "x = 2\n",
        "y = 2.0\n",
        "print(type(x))\n",
        "x = x/y\n",
        "print(x)\n",
        "print(type(x))"
      ],
      "metadata": {
        "colab": {
          "base_uri": "https://localhost:8080/"
        },
        "id": "y5clrib_O7aY",
        "outputId": "68eeb4d3-bf47-4ba0-82d9-6b60a08e70d5"
      },
      "execution_count": null,
      "outputs": [
        {
          "output_type": "stream",
          "name": "stdout",
          "text": [
            "<class 'str'>\n",
            "<class 'float'>\n",
            "<class 'int'>\n",
            "<class 'bool'>\n",
            "25.0\n",
            "<class 'float'>\n",
            "2\n",
            "<class 'int'>\n",
            "True\n",
            "<class 'str'>\n",
            "True\n",
            "<class 'bool'>\n",
            "True\n",
            "<class 'bool'>\n",
            "<class 'int'>\n",
            "1.0\n",
            "<class 'float'>\n"
          ]
        }
      ]
    },
    {
      "cell_type": "markdown",
      "source": [
        "**User input function**"
      ],
      "metadata": {
        "id": "O7-bFL22Tp2m"
      }
    },
    {
      "cell_type": "code",
      "source": [
        "name = input(\"Enter your name: \")\n",
        "age= input(\"Enter your age: \")\n",
        "age = int(age)\n",
        "age = float(input(\"Enter your age: \"))\n",
        "age = age+1\n",
        "print(f\"Hello {name}\")\n",
        "print(f\"you are {age} years old\")\n"
      ],
      "metadata": {
        "colab": {
          "base_uri": "https://localhost:8080/"
        },
        "id": "URUqhNshT91z",
        "outputId": "fc684d31-a777-4b10-bde1-993de5ec96e6"
      },
      "execution_count": null,
      "outputs": [
        {
          "output_type": "stream",
          "name": "stdout",
          "text": [
            "Enter your name: Ciya\n",
            "Enter your age: 25\n",
            "Enter your age: 25\n",
            "Hello Ciya\n",
            "you are 26.0 years old\n"
          ]
        }
      ]
    },
    {
      "cell_type": "markdown",
      "source": [
        "**Example exercise- Madlibs**"
      ],
      "metadata": {
        "id": "Fo9dRdnKV2c4"
      }
    },
    {
      "cell_type": "code",
      "source": [
        "adjective = input(\"Enter an adjective: \")\n",
        "noun = input(\"Enter a noun: \")\n",
        "adjective1 = input(\"Enter an adjective: \")\n",
        "verb = input(\"Enter a verb: \")\n",
        "adjective2 = input(\"Enter an adjective: \")\n",
        "\n",
        "print(f\"Today I went to a {adjective} zoo\")\n",
        "print(f\"In an exhibit i saw {noun}\")\n",
        "print(f\"{noun} was {adjective1} and {verb}ing\")\n",
        "print(f\"I was {adjective2}\")"
      ],
      "metadata": {
        "colab": {
          "base_uri": "https://localhost:8080/"
        },
        "id": "1sQbWdESV6z9",
        "outputId": "1db8c7e0-b643-46fd-ca1e-a2fd103f2c61"
      },
      "execution_count": null,
      "outputs": [
        {
          "output_type": "stream",
          "name": "stdout",
          "text": [
            "Enter an adjective: Vast\n",
            "Enter a noun: Monkey\n",
            "Enter an adjective: Dirty\n",
            "Enter a verb: climb\n",
            "Enter an adjective: Shocked\n",
            "Today I went to a Vast zoo\n",
            "In an exhibit i saw Monkey\n",
            "Monkey was Dirty and climbing\n",
            "I was Shocked\n"
          ]
        }
      ]
    },
    {
      "cell_type": "markdown",
      "source": [
        "**Example exercise - Area Calculator**"
      ],
      "metadata": {
        "id": "ish_jlpdbzgh"
      }
    },
    {
      "cell_type": "code",
      "source": [
        "from os import W_OK\n",
        "length = float(input(\"Enter the length of a rectangle: \"))\n",
        "Width = float(input(\"Enter the width of a rectangle: \"))\n",
        "height = float(input(\"Enter the height of a rectangle: \"))\n",
        "\n",
        "volume = length*Width*height\n",
        "print(f\"The volume of a rectangle is {volume}cm^3\")\n",
        "\n",
        "length = float(input(\"Enter the length of a rectangle: \"))\n",
        "Width = float(input(\"Enter the width of a rectangle: \"))\n",
        "\n",
        "area = length*Width\n",
        "print(f\"The area of a rectangle is {area}cm^2\")"
      ],
      "metadata": {
        "colab": {
          "base_uri": "https://localhost:8080/"
        },
        "id": "uau4kq-yb79A",
        "outputId": "fce244b3-60f6-4130-b85e-81fefca75751"
      },
      "execution_count": null,
      "outputs": [
        {
          "output_type": "stream",
          "name": "stdout",
          "text": [
            "Enter the length of a rectangle: 7\n",
            "Enter the width of a rectangle: 4\n",
            "Enter the height of a rectangle: 5\n",
            "The volume of a rectangle is 140.0cm^3\n",
            "Enter the length of a rectangle: 7\n",
            "Enter the width of a rectangle: 4\n",
            "The area of a rectangle is 28.0cm^2\n"
          ]
        }
      ]
    },
    {
      "cell_type": "markdown",
      "source": [
        "**Example exercise-Shopping cart**"
      ],
      "metadata": {
        "id": "Cbch-chWfax3"
      }
    },
    {
      "cell_type": "code",
      "source": [
        "item = input(\"What item would you like to buy?:\")\n",
        "price = float(input(\"what is the price?: \"))\n",
        "quantity = int(input(\"How many would you like?: \"))\n",
        "\n",
        "total = price*quantity\n",
        "print(f\"you have bought {quantity} x {item}/s\")\n",
        "print(f\"your total is ${total}\")"
      ],
      "metadata": {
        "colab": {
          "base_uri": "https://localhost:8080/"
        },
        "id": "xzNB98xNgaZn",
        "outputId": "a65e7c45-2632-494b-ffca-e7b592ed6885"
      },
      "execution_count": null,
      "outputs": [
        {
          "output_type": "stream",
          "name": "stdout",
          "text": [
            "What item would you like to buy?:apple\n",
            "what is the price?: 40\n",
            "How many would you like?: 11\n",
            "you have bought 11 x apple/s\n",
            "your total is $440.0\n"
          ]
        }
      ]
    },
    {
      "cell_type": "markdown",
      "source": [
        "**Math in Python**"
      ],
      "metadata": {
        "id": "QcmO0it3GXDV"
      }
    },
    {
      "cell_type": "code",
      "source": [
        "Onions = 5\n",
        "#Onions = Onions+1\n",
        "#Onions +=1\n",
        "#Onions = Onions-2\n",
        "#Onions -=2\n",
        "#Onions = Onions*2\n",
        "#Onions *=2\n",
        "#Onions = Onions/2\n",
        "#Onions /=2\n",
        "#Onions = Onions **2\n",
        "#Onions **=2\n",
        "remainder = Onions%2\n",
        "\n",
        "\n",
        "print(remainder)"
      ],
      "metadata": {
        "colab": {
          "base_uri": "https://localhost:8080/"
        },
        "id": "6cdUVowfGaW5",
        "outputId": "807210e3-ecc6-4480-8e28-9d4b97cad272"
      },
      "execution_count": null,
      "outputs": [
        {
          "output_type": "stream",
          "name": "stdout",
          "text": [
            "1\n"
          ]
        }
      ]
    },
    {
      "cell_type": "code",
      "source": [
        "x = 2.1\n",
        "y = 4\n",
        "z = 5\n",
        "result = round(x)\n",
        "result = abs(y)\n",
        "result = pow(4,2)\n",
        "result = max(x,y,z)\n",
        "result = min(x,y,z)\n",
        "\n",
        "print (result)"
      ],
      "metadata": {
        "colab": {
          "base_uri": "https://localhost:8080/"
        },
        "id": "34H51IXubjz4",
        "outputId": "154cdfbc-8512-4366-92fe-1d274ff298a7"
      },
      "execution_count": null,
      "outputs": [
        {
          "output_type": "stream",
          "name": "stdout",
          "text": [
            "2.1\n"
          ]
        }
      ]
    },
    {
      "cell_type": "code",
      "source": [
        "import math\n",
        "x = 16.2\n",
        "\n",
        "print(math.pi)\n",
        "print(math.e)\n",
        "result = math.sqrt(x)\n",
        "result = math.ceil(x)\n",
        "result = math.floor(x)\n",
        "\n",
        "print(result)\n",
        "\n",
        "\n"
      ],
      "metadata": {
        "colab": {
          "base_uri": "https://localhost:8080/"
        },
        "id": "NEiFZifAcobB",
        "outputId": "312068a3-887e-4a42-c26f-6e58102c729b"
      },
      "execution_count": null,
      "outputs": [
        {
          "output_type": "stream",
          "name": "stdout",
          "text": [
            "3.141592653589793\n",
            "2.718281828459045\n",
            "16\n"
          ]
        }
      ]
    },
    {
      "cell_type": "markdown",
      "source": [
        "**Circumference calculation**"
      ],
      "metadata": {
        "id": "vQiZDrxldwdZ"
      }
    },
    {
      "cell_type": "code",
      "source": [
        "import math\n",
        "\n",
        "radius = float(input('Enter the radius of a circle: ' ))\n",
        "\n",
        "circumference = 2*math.pi*radius\n",
        "\n",
        "print(f\"the circumference of a circle is: {circumference}cm\")\n",
        "print(f\"the circumference of a circle is: {round(circumference,2)}cm\")\n"
      ],
      "metadata": {
        "colab": {
          "base_uri": "https://localhost:8080/"
        },
        "id": "NAz8E6RKdvY5",
        "outputId": "90ac4fd5-d46c-45c9-84ce-b4513d055545"
      },
      "execution_count": null,
      "outputs": [
        {
          "output_type": "stream",
          "name": "stdout",
          "text": [
            "Enter the radius of a circle: 5.7\n",
            "the circumference of a circle is: 35.814156250923645cm\n",
            "the circumference of a circle is: 35.81cm\n"
          ]
        }
      ]
    },
    {
      "cell_type": "markdown",
      "source": [
        "**Area calculation**"
      ],
      "metadata": {
        "id": "F9sfLZ53fe9S"
      }
    },
    {
      "cell_type": "code",
      "source": [
        "import math\n",
        "\n",
        "radius = float(input('Enter the radius of a circle: ' ))\n",
        "\n",
        "Area = math.pi* pow(radius,2)\n",
        "\n",
        "print(f\"the area of a circle is: {Area}cm^2\")\n",
        "print(f\"the circumference of a circle is: {round(Area,2)}cm^2\")"
      ],
      "metadata": {
        "colab": {
          "base_uri": "https://localhost:8080/"
        },
        "id": "GgbdzR1SfmS4",
        "outputId": "a1e68df7-ccdb-4105-81d5-f7252e1b9d09"
      },
      "execution_count": null,
      "outputs": [
        {
          "output_type": "stream",
          "name": "stdout",
          "text": [
            "Enter the radius of a circle: 5.7\n",
            "the area of a circle is: 102.07034531513239cm^2\n",
            "the circumference of a circle is: 102.07cm^2\n"
          ]
        }
      ]
    },
    {
      "cell_type": "markdown",
      "source": [
        "**Hypotunese of a Triangle**"
      ],
      "metadata": {
        "id": "_9FWMs13gK6G"
      }
    },
    {
      "cell_type": "code",
      "source": [
        "import math\n",
        "\n",
        "a = float(input('Enter the length of side A: '))\n",
        "b = float(input('Enter the length of side B: '))\n",
        "\n",
        "c = math.sqrt(pow(a,2) + pow(b,2))\n",
        "\n",
        "print(f\"Side C is {c} \")\n",
        "print(f\"Side C is {round(c,2)}\")"
      ],
      "metadata": {
        "colab": {
          "base_uri": "https://localhost:8080/"
        },
        "id": "m6PVLp-6gP0z",
        "outputId": "82767b97-2c95-4a75-878e-0b2f6385f3c1"
      },
      "execution_count": null,
      "outputs": [
        {
          "output_type": "stream",
          "name": "stdout",
          "text": [
            "Enter the length of side A: 5\n",
            "Enter the length of side B: 6\n",
            "Side C is 7.810249675906654 \n",
            "Side C is 7.81\n"
          ]
        }
      ]
    },
    {
      "cell_type": "markdown",
      "source": [
        "**if statement or Else**"
      ],
      "metadata": {
        "id": "zhSJaSREhobu"
      }
    },
    {
      "cell_type": "code",
      "source": [
        "age = int(input('Enter your age: '))\n",
        "\n",
        "\n",
        "if age >= 100:\n",
        "    print(f\"you are too old to sign up\")\n",
        "elif age >= 18:\n",
        "   print(f\"you are now signed up\")\n",
        "elif age <= 11:\n",
        "    print(f\"you are too young to sign up\")\n",
        "else:\n",
        "    print(f\"you need to be 18+ to sign up\")"
      ],
      "metadata": {
        "colab": {
          "base_uri": "https://localhost:8080/"
        },
        "id": "2_XlPISRhrUs",
        "outputId": "cb8cec96-5688-4d0c-89c2-73622460ea52"
      },
      "execution_count": null,
      "outputs": [
        {
          "output_type": "stream",
          "name": "stdout",
          "text": [
            "Enter your age: 10\n",
            "you are too young to sign up\n"
          ]
        }
      ]
    },
    {
      "cell_type": "code",
      "source": [
        "name = input('Enter your name:')\n",
        "\n",
        "if name == \"\" :\n",
        "    print(f\"you have not entered your name\")\n",
        "else:\n",
        "    print(f\"Hello {name}\")\n"
      ],
      "metadata": {
        "colab": {
          "base_uri": "https://localhost:8080/"
        },
        "id": "Obp6VW_7khS3",
        "outputId": "455ee461-c6f7-490d-a661-050d7d8708f3"
      },
      "execution_count": null,
      "outputs": [
        {
          "output_type": "stream",
          "name": "stdout",
          "text": [
            "Enter your name:Ciya\n",
            "Hello Ciya\n"
          ]
        }
      ]
    },
    {
      "cell_type": "code",
      "source": [
        "Online = False\n",
        "\n",
        "if Online:\n",
        "    print(f\"the user is Online\")\n",
        "else:\n",
        "    print(f\"the user is offline\")"
      ],
      "metadata": {
        "colab": {
          "base_uri": "https://localhost:8080/"
        },
        "id": "xZ5UYrpDlSnB",
        "outputId": "42405d65-6c28-4387-ad9b-1051e3ca23aa"
      },
      "execution_count": null,
      "outputs": [
        {
          "output_type": "stream",
          "name": "stdout",
          "text": [
            "the user is offline\n"
          ]
        }
      ]
    },
    {
      "cell_type": "markdown",
      "source": [
        "**Calculator**"
      ],
      "metadata": {
        "id": "G9kNBty0mWpq"
      }
    },
    {
      "cell_type": "code",
      "source": [
        "operator = input('Enter an operator(+ - * /): ')\n",
        "\n",
        "a = float(input('Enter 1st number:'))\n",
        "b = float(input('Enter 2nd number:'))\n",
        "\n",
        "\n",
        "if operator == \"+\":\n",
        "    result = a + b\n",
        "    print(result)\n",
        "\n",
        "elif operator == \"-\":\n",
        "    result = a - b\n",
        "    print(result)\n",
        "\n",
        "elif operator == \"*\":\n",
        "    result = a * b\n",
        "    print(result)\n",
        "\n",
        "elif operator == \"/\":\n",
        "    result = a/b\n",
        "    print(result)\n",
        "\n",
        "else:\n",
        "    print(f\"the {operator} is not a valid operator\")\n",
        "\n",
        "\n",
        "\n",
        "\n",
        "\n"
      ],
      "metadata": {
        "colab": {
          "base_uri": "https://localhost:8080/"
        },
        "id": "NBeXBCDKmbSJ",
        "outputId": "002c0c7a-4461-488b-de57-39b981ebc7ce"
      },
      "execution_count": null,
      "outputs": [
        {
          "output_type": "stream",
          "name": "stdout",
          "text": [
            "Enter an operator(+ - * /): /\n",
            "Enter 1st number:6\n",
            "Enter 2nd number:2\n",
            "3.0\n"
          ]
        }
      ]
    },
    {
      "cell_type": "markdown",
      "source": [
        "**Temperature conversion program**"
      ],
      "metadata": {
        "id": "tdvH1F_3GVUm"
      }
    },
    {
      "cell_type": "code",
      "source": [
        "unit = input(\"Is this temperature in celsius or fahrenheit (C/F)?: \")\n",
        "temp = float(input(\"Enter the temperature: \"))\n",
        "\n",
        "if unit == \"C\":\n",
        "    temp = round((9 * temp)/5+32, 1)\n",
        "    print(f\"The temperature in Fahrenheit is: {temp}F\")\n",
        "elif unit == \"F\":\n",
        "    temp = round((temp - 32)* 5/9, 1)\n",
        "    print(f\"The temperature in Celsius is: {temp}C\")\n",
        "else:\n",
        "    print(f\"{unit} is an invalid unit of measurement\")"
      ],
      "metadata": {
        "colab": {
          "base_uri": "https://localhost:8080/"
        },
        "id": "Mid2FxfsGax2",
        "outputId": "1fe395d6-eef9-4687-8c34-60a606b6a0c0"
      },
      "execution_count": null,
      "outputs": [
        {
          "output_type": "stream",
          "name": "stdout",
          "text": [
            "Is this temperature in celcius or fahrenheit (C/F)?: K\n",
            "Enter the temperature: 21\n",
            "K is an invalid unit of measurement\n"
          ]
        }
      ]
    },
    {
      "cell_type": "markdown",
      "source": [
        "**Logical Operators- and, or, not**"
      ],
      "metadata": {
        "id": "oCqL3pX0J6mj"
      }
    },
    {
      "cell_type": "code",
      "source": [
        "temp = -2\n",
        "\n",
        "if temp>0 and temp<30:\n",
        "    print(f\"The temperature is good\")\n",
        "else:\n",
        "    print(f\"the temperature is bad\")\n",
        "\n",
        "temp = 10\n",
        "\n",
        "if temp <=0 or temp >=30:\n",
        "    print(f\"The temperature is bad\")\n",
        "else:\n",
        "    print(f\"the temperature is good\")\n",
        "\n",
        "temp = 10\n",
        "sunny = False\n",
        "\n",
        "if not sunny:\n",
        "    print(f\"It is cloudy outside\")\n",
        "else:\n",
        "    print(f\"It is sunny outside\")"
      ],
      "metadata": {
        "colab": {
          "base_uri": "https://localhost:8080/"
        },
        "id": "36EMiKfTKBEs",
        "outputId": "6e7f9350-b7bc-40a0-8d06-c85f70ed5ddb"
      },
      "execution_count": null,
      "outputs": [
        {
          "output_type": "stream",
          "name": "stdout",
          "text": [
            "the temperature is bad\n",
            "the temperature is good\n",
            "It is cloudy outside\n"
          ]
        }
      ]
    },
    {
      "cell_type": "markdown",
      "source": [
        "**String Method**"
      ],
      "metadata": {
        "id": "peKZ9LgINEP5"
      }
    },
    {
      "cell_type": "code",
      "source": [
        "#name = input(\"Enter your full name:\")\n",
        "#phone_number = input(\"Enter your phone #: \")\n",
        "\n",
        "#result = len(name)\n",
        "#result = name.find(\"r\")\n",
        "#result = name.rfind(\"q\")\n",
        "#name = name.capitalize()\n",
        "#name = name.upper()\n",
        "#name = name.lower()\n",
        "#result = name.isdigit()\n",
        "#result = name.isalpha()\n",
        "#result = phone_number.count(\"-\")\n",
        "#result = phone_number.replace(\"-\", \"\")\n",
        "\n",
        "#print(result)\n",
        "\n",
        "print(help(str))"
      ],
      "metadata": {
        "colab": {
          "base_uri": "https://localhost:8080/"
        },
        "id": "jWocCF8DP-7w",
        "outputId": "4cc8cb93-30d6-400c-f3f6-0fe1d7c3a449"
      },
      "execution_count": 22,
      "outputs": [
        {
          "output_type": "stream",
          "name": "stdout",
          "text": [
            "Help on class str in module builtins:\n",
            "\n",
            "class str(object)\n",
            " |  str(object='') -> str\n",
            " |  str(bytes_or_buffer[, encoding[, errors]]) -> str\n",
            " |  \n",
            " |  Create a new string object from the given object. If encoding or\n",
            " |  errors is specified, then the object must expose a data buffer\n",
            " |  that will be decoded using the given encoding and error handler.\n",
            " |  Otherwise, returns the result of object.__str__() (if defined)\n",
            " |  or repr(object).\n",
            " |  encoding defaults to sys.getdefaultencoding().\n",
            " |  errors defaults to 'strict'.\n",
            " |  \n",
            " |  Methods defined here:\n",
            " |  \n",
            " |  __add__(self, value, /)\n",
            " |      Return self+value.\n",
            " |  \n",
            " |  __contains__(self, key, /)\n",
            " |      Return key in self.\n",
            " |  \n",
            " |  __eq__(self, value, /)\n",
            " |      Return self==value.\n",
            " |  \n",
            " |  __format__(self, format_spec, /)\n",
            " |      Return a formatted version of the string as described by format_spec.\n",
            " |  \n",
            " |  __ge__(self, value, /)\n",
            " |      Return self>=value.\n",
            " |  \n",
            " |  __getattribute__(self, name, /)\n",
            " |      Return getattr(self, name).\n",
            " |  \n",
            " |  __getitem__(self, key, /)\n",
            " |      Return self[key].\n",
            " |  \n",
            " |  __getnewargs__(...)\n",
            " |  \n",
            " |  __gt__(self, value, /)\n",
            " |      Return self>value.\n",
            " |  \n",
            " |  __hash__(self, /)\n",
            " |      Return hash(self).\n",
            " |  \n",
            " |  __iter__(self, /)\n",
            " |      Implement iter(self).\n",
            " |  \n",
            " |  __le__(self, value, /)\n",
            " |      Return self<=value.\n",
            " |  \n",
            " |  __len__(self, /)\n",
            " |      Return len(self).\n",
            " |  \n",
            " |  __lt__(self, value, /)\n",
            " |      Return self<value.\n",
            " |  \n",
            " |  __mod__(self, value, /)\n",
            " |      Return self%value.\n",
            " |  \n",
            " |  __mul__(self, value, /)\n",
            " |      Return self*value.\n",
            " |  \n",
            " |  __ne__(self, value, /)\n",
            " |      Return self!=value.\n",
            " |  \n",
            " |  __repr__(self, /)\n",
            " |      Return repr(self).\n",
            " |  \n",
            " |  __rmod__(self, value, /)\n",
            " |      Return value%self.\n",
            " |  \n",
            " |  __rmul__(self, value, /)\n",
            " |      Return value*self.\n",
            " |  \n",
            " |  __sizeof__(self, /)\n",
            " |      Return the size of the string in memory, in bytes.\n",
            " |  \n",
            " |  __str__(self, /)\n",
            " |      Return str(self).\n",
            " |  \n",
            " |  capitalize(self, /)\n",
            " |      Return a capitalized version of the string.\n",
            " |      \n",
            " |      More specifically, make the first character have upper case and the rest lower\n",
            " |      case.\n",
            " |  \n",
            " |  casefold(self, /)\n",
            " |      Return a version of the string suitable for caseless comparisons.\n",
            " |  \n",
            " |  center(self, width, fillchar=' ', /)\n",
            " |      Return a centered string of length width.\n",
            " |      \n",
            " |      Padding is done using the specified fill character (default is a space).\n",
            " |  \n",
            " |  count(...)\n",
            " |      S.count(sub[, start[, end]]) -> int\n",
            " |      \n",
            " |      Return the number of non-overlapping occurrences of substring sub in\n",
            " |      string S[start:end].  Optional arguments start and end are\n",
            " |      interpreted as in slice notation.\n",
            " |  \n",
            " |  encode(self, /, encoding='utf-8', errors='strict')\n",
            " |      Encode the string using the codec registered for encoding.\n",
            " |      \n",
            " |      encoding\n",
            " |        The encoding in which to encode the string.\n",
            " |      errors\n",
            " |        The error handling scheme to use for encoding errors.\n",
            " |        The default is 'strict' meaning that encoding errors raise a\n",
            " |        UnicodeEncodeError.  Other possible values are 'ignore', 'replace' and\n",
            " |        'xmlcharrefreplace' as well as any other name registered with\n",
            " |        codecs.register_error that can handle UnicodeEncodeErrors.\n",
            " |  \n",
            " |  endswith(...)\n",
            " |      S.endswith(suffix[, start[, end]]) -> bool\n",
            " |      \n",
            " |      Return True if S ends with the specified suffix, False otherwise.\n",
            " |      With optional start, test S beginning at that position.\n",
            " |      With optional end, stop comparing S at that position.\n",
            " |      suffix can also be a tuple of strings to try.\n",
            " |  \n",
            " |  expandtabs(self, /, tabsize=8)\n",
            " |      Return a copy where all tab characters are expanded using spaces.\n",
            " |      \n",
            " |      If tabsize is not given, a tab size of 8 characters is assumed.\n",
            " |  \n",
            " |  find(...)\n",
            " |      S.find(sub[, start[, end]]) -> int\n",
            " |      \n",
            " |      Return the lowest index in S where substring sub is found,\n",
            " |      such that sub is contained within S[start:end].  Optional\n",
            " |      arguments start and end are interpreted as in slice notation.\n",
            " |      \n",
            " |      Return -1 on failure.\n",
            " |  \n",
            " |  format(...)\n",
            " |      S.format(*args, **kwargs) -> str\n",
            " |      \n",
            " |      Return a formatted version of S, using substitutions from args and kwargs.\n",
            " |      The substitutions are identified by braces ('{' and '}').\n",
            " |  \n",
            " |  format_map(...)\n",
            " |      S.format_map(mapping) -> str\n",
            " |      \n",
            " |      Return a formatted version of S, using substitutions from mapping.\n",
            " |      The substitutions are identified by braces ('{' and '}').\n",
            " |  \n",
            " |  index(...)\n",
            " |      S.index(sub[, start[, end]]) -> int\n",
            " |      \n",
            " |      Return the lowest index in S where substring sub is found,\n",
            " |      such that sub is contained within S[start:end].  Optional\n",
            " |      arguments start and end are interpreted as in slice notation.\n",
            " |      \n",
            " |      Raises ValueError when the substring is not found.\n",
            " |  \n",
            " |  isalnum(self, /)\n",
            " |      Return True if the string is an alpha-numeric string, False otherwise.\n",
            " |      \n",
            " |      A string is alpha-numeric if all characters in the string are alpha-numeric and\n",
            " |      there is at least one character in the string.\n",
            " |  \n",
            " |  isalpha(self, /)\n",
            " |      Return True if the string is an alphabetic string, False otherwise.\n",
            " |      \n",
            " |      A string is alphabetic if all characters in the string are alphabetic and there\n",
            " |      is at least one character in the string.\n",
            " |  \n",
            " |  isascii(self, /)\n",
            " |      Return True if all characters in the string are ASCII, False otherwise.\n",
            " |      \n",
            " |      ASCII characters have code points in the range U+0000-U+007F.\n",
            " |      Empty string is ASCII too.\n",
            " |  \n",
            " |  isdecimal(self, /)\n",
            " |      Return True if the string is a decimal string, False otherwise.\n",
            " |      \n",
            " |      A string is a decimal string if all characters in the string are decimal and\n",
            " |      there is at least one character in the string.\n",
            " |  \n",
            " |  isdigit(self, /)\n",
            " |      Return True if the string is a digit string, False otherwise.\n",
            " |      \n",
            " |      A string is a digit string if all characters in the string are digits and there\n",
            " |      is at least one character in the string.\n",
            " |  \n",
            " |  isidentifier(self, /)\n",
            " |      Return True if the string is a valid Python identifier, False otherwise.\n",
            " |      \n",
            " |      Call keyword.iskeyword(s) to test whether string s is a reserved identifier,\n",
            " |      such as \"def\" or \"class\".\n",
            " |  \n",
            " |  islower(self, /)\n",
            " |      Return True if the string is a lowercase string, False otherwise.\n",
            " |      \n",
            " |      A string is lowercase if all cased characters in the string are lowercase and\n",
            " |      there is at least one cased character in the string.\n",
            " |  \n",
            " |  isnumeric(self, /)\n",
            " |      Return True if the string is a numeric string, False otherwise.\n",
            " |      \n",
            " |      A string is numeric if all characters in the string are numeric and there is at\n",
            " |      least one character in the string.\n",
            " |  \n",
            " |  isprintable(self, /)\n",
            " |      Return True if the string is printable, False otherwise.\n",
            " |      \n",
            " |      A string is printable if all of its characters are considered printable in\n",
            " |      repr() or if it is empty.\n",
            " |  \n",
            " |  isspace(self, /)\n",
            " |      Return True if the string is a whitespace string, False otherwise.\n",
            " |      \n",
            " |      A string is whitespace if all characters in the string are whitespace and there\n",
            " |      is at least one character in the string.\n",
            " |  \n",
            " |  istitle(self, /)\n",
            " |      Return True if the string is a title-cased string, False otherwise.\n",
            " |      \n",
            " |      In a title-cased string, upper- and title-case characters may only\n",
            " |      follow uncased characters and lowercase characters only cased ones.\n",
            " |  \n",
            " |  isupper(self, /)\n",
            " |      Return True if the string is an uppercase string, False otherwise.\n",
            " |      \n",
            " |      A string is uppercase if all cased characters in the string are uppercase and\n",
            " |      there is at least one cased character in the string.\n",
            " |  \n",
            " |  join(self, iterable, /)\n",
            " |      Concatenate any number of strings.\n",
            " |      \n",
            " |      The string whose method is called is inserted in between each given string.\n",
            " |      The result is returned as a new string.\n",
            " |      \n",
            " |      Example: '.'.join(['ab', 'pq', 'rs']) -> 'ab.pq.rs'\n",
            " |  \n",
            " |  ljust(self, width, fillchar=' ', /)\n",
            " |      Return a left-justified string of length width.\n",
            " |      \n",
            " |      Padding is done using the specified fill character (default is a space).\n",
            " |  \n",
            " |  lower(self, /)\n",
            " |      Return a copy of the string converted to lowercase.\n",
            " |  \n",
            " |  lstrip(self, chars=None, /)\n",
            " |      Return a copy of the string with leading whitespace removed.\n",
            " |      \n",
            " |      If chars is given and not None, remove characters in chars instead.\n",
            " |  \n",
            " |  partition(self, sep, /)\n",
            " |      Partition the string into three parts using the given separator.\n",
            " |      \n",
            " |      This will search for the separator in the string.  If the separator is found,\n",
            " |      returns a 3-tuple containing the part before the separator, the separator\n",
            " |      itself, and the part after it.\n",
            " |      \n",
            " |      If the separator is not found, returns a 3-tuple containing the original string\n",
            " |      and two empty strings.\n",
            " |  \n",
            " |  removeprefix(self, prefix, /)\n",
            " |      Return a str with the given prefix string removed if present.\n",
            " |      \n",
            " |      If the string starts with the prefix string, return string[len(prefix):].\n",
            " |      Otherwise, return a copy of the original string.\n",
            " |  \n",
            " |  removesuffix(self, suffix, /)\n",
            " |      Return a str with the given suffix string removed if present.\n",
            " |      \n",
            " |      If the string ends with the suffix string and that suffix is not empty,\n",
            " |      return string[:-len(suffix)]. Otherwise, return a copy of the original\n",
            " |      string.\n",
            " |  \n",
            " |  replace(self, old, new, count=-1, /)\n",
            " |      Return a copy with all occurrences of substring old replaced by new.\n",
            " |      \n",
            " |        count\n",
            " |          Maximum number of occurrences to replace.\n",
            " |          -1 (the default value) means replace all occurrences.\n",
            " |      \n",
            " |      If the optional argument count is given, only the first count occurrences are\n",
            " |      replaced.\n",
            " |  \n",
            " |  rfind(...)\n",
            " |      S.rfind(sub[, start[, end]]) -> int\n",
            " |      \n",
            " |      Return the highest index in S where substring sub is found,\n",
            " |      such that sub is contained within S[start:end].  Optional\n",
            " |      arguments start and end are interpreted as in slice notation.\n",
            " |      \n",
            " |      Return -1 on failure.\n",
            " |  \n",
            " |  rindex(...)\n",
            " |      S.rindex(sub[, start[, end]]) -> int\n",
            " |      \n",
            " |      Return the highest index in S where substring sub is found,\n",
            " |      such that sub is contained within S[start:end].  Optional\n",
            " |      arguments start and end are interpreted as in slice notation.\n",
            " |      \n",
            " |      Raises ValueError when the substring is not found.\n",
            " |  \n",
            " |  rjust(self, width, fillchar=' ', /)\n",
            " |      Return a right-justified string of length width.\n",
            " |      \n",
            " |      Padding is done using the specified fill character (default is a space).\n",
            " |  \n",
            " |  rpartition(self, sep, /)\n",
            " |      Partition the string into three parts using the given separator.\n",
            " |      \n",
            " |      This will search for the separator in the string, starting at the end. If\n",
            " |      the separator is found, returns a 3-tuple containing the part before the\n",
            " |      separator, the separator itself, and the part after it.\n",
            " |      \n",
            " |      If the separator is not found, returns a 3-tuple containing two empty strings\n",
            " |      and the original string.\n",
            " |  \n",
            " |  rsplit(self, /, sep=None, maxsplit=-1)\n",
            " |      Return a list of the substrings in the string, using sep as the separator string.\n",
            " |      \n",
            " |        sep\n",
            " |          The separator used to split the string.\n",
            " |      \n",
            " |          When set to None (the default value), will split on any whitespace\n",
            " |          character (including \\\\n \\\\r \\\\t \\\\f and spaces) and will discard\n",
            " |          empty strings from the result.\n",
            " |        maxsplit\n",
            " |          Maximum number of splits (starting from the left).\n",
            " |          -1 (the default value) means no limit.\n",
            " |      \n",
            " |      Splitting starts at the end of the string and works to the front.\n",
            " |  \n",
            " |  rstrip(self, chars=None, /)\n",
            " |      Return a copy of the string with trailing whitespace removed.\n",
            " |      \n",
            " |      If chars is given and not None, remove characters in chars instead.\n",
            " |  \n",
            " |  split(self, /, sep=None, maxsplit=-1)\n",
            " |      Return a list of the substrings in the string, using sep as the separator string.\n",
            " |      \n",
            " |        sep\n",
            " |          The separator used to split the string.\n",
            " |      \n",
            " |          When set to None (the default value), will split on any whitespace\n",
            " |          character (including \\\\n \\\\r \\\\t \\\\f and spaces) and will discard\n",
            " |          empty strings from the result.\n",
            " |        maxsplit\n",
            " |          Maximum number of splits (starting from the left).\n",
            " |          -1 (the default value) means no limit.\n",
            " |      \n",
            " |      Note, str.split() is mainly useful for data that has been intentionally\n",
            " |      delimited.  With natural text that includes punctuation, consider using\n",
            " |      the regular expression module.\n",
            " |  \n",
            " |  splitlines(self, /, keepends=False)\n",
            " |      Return a list of the lines in the string, breaking at line boundaries.\n",
            " |      \n",
            " |      Line breaks are not included in the resulting list unless keepends is given and\n",
            " |      true.\n",
            " |  \n",
            " |  startswith(...)\n",
            " |      S.startswith(prefix[, start[, end]]) -> bool\n",
            " |      \n",
            " |      Return True if S starts with the specified prefix, False otherwise.\n",
            " |      With optional start, test S beginning at that position.\n",
            " |      With optional end, stop comparing S at that position.\n",
            " |      prefix can also be a tuple of strings to try.\n",
            " |  \n",
            " |  strip(self, chars=None, /)\n",
            " |      Return a copy of the string with leading and trailing whitespace removed.\n",
            " |      \n",
            " |      If chars is given and not None, remove characters in chars instead.\n",
            " |  \n",
            " |  swapcase(self, /)\n",
            " |      Convert uppercase characters to lowercase and lowercase characters to uppercase.\n",
            " |  \n",
            " |  title(self, /)\n",
            " |      Return a version of the string where each word is titlecased.\n",
            " |      \n",
            " |      More specifically, words start with uppercased characters and all remaining\n",
            " |      cased characters have lower case.\n",
            " |  \n",
            " |  translate(self, table, /)\n",
            " |      Replace each character in the string using the given translation table.\n",
            " |      \n",
            " |        table\n",
            " |          Translation table, which must be a mapping of Unicode ordinals to\n",
            " |          Unicode ordinals, strings, or None.\n",
            " |      \n",
            " |      The table must implement lookup/indexing via __getitem__, for instance a\n",
            " |      dictionary or list.  If this operation raises LookupError, the character is\n",
            " |      left untouched.  Characters mapped to None are deleted.\n",
            " |  \n",
            " |  upper(self, /)\n",
            " |      Return a copy of the string converted to uppercase.\n",
            " |  \n",
            " |  zfill(self, width, /)\n",
            " |      Pad a numeric string with zeros on the left, to fill a field of the given width.\n",
            " |      \n",
            " |      The string is never truncated.\n",
            " |  \n",
            " |  ----------------------------------------------------------------------\n",
            " |  Static methods defined here:\n",
            " |  \n",
            " |  __new__(*args, **kwargs) from builtins.type\n",
            " |      Create and return a new object.  See help(type) for accurate signature.\n",
            " |  \n",
            " |  maketrans(...)\n",
            " |      Return a translation table usable for str.translate().\n",
            " |      \n",
            " |      If there is only one argument, it must be a dictionary mapping Unicode\n",
            " |      ordinals (integers) or characters to Unicode ordinals, strings or None.\n",
            " |      Character keys will be then converted to ordinals.\n",
            " |      If there are two arguments, they must be strings of equal length, and\n",
            " |      in the resulting dictionary, each character in x will be mapped to the\n",
            " |      character at the same position in y. If there is a third argument, it\n",
            " |      must be a string, whose characters will be mapped to None in the result.\n",
            "\n",
            "None\n"
          ]
        }
      ]
    },
    {
      "cell_type": "markdown",
      "source": [
        "**Exercise**"
      ],
      "metadata": {
        "id": "CyMoNDxDTsE-"
      }
    },
    {
      "cell_type": "code",
      "source": [
        "username = input(\"Enter a username: \")\n",
        "\n",
        "#result = username.count(\"\")\n",
        "if len(username)>12:\n",
        "    print(\"your username cannot be more than 12 characters\")\n",
        "elif not username.find(\" \") == -1:\n",
        "    print(\"your username cannot contain spaces\")\n",
        "elif not username.isalpha():\n",
        "    print(\"your username cannot contain digits\")\n",
        "else:\n",
        "    print(f\"Welcome {username}\")\n",
        "\n"
      ],
      "metadata": {
        "colab": {
          "base_uri": "https://localhost:8080/"
        },
        "id": "k_ej4hv-TvSA",
        "outputId": "a51db34b-6165-464f-eb61-53862076c458"
      },
      "execution_count": 29,
      "outputs": [
        {
          "output_type": "stream",
          "name": "stdout",
          "text": [
            "Enter a username: isha\n",
            "Welcome isha\n"
          ]
        }
      ]
    },
    {
      "cell_type": "markdown",
      "source": [
        "**Indexing**"
      ],
      "metadata": {
        "id": "cyy_FmQbWTm3"
      }
    },
    {
      "cell_type": "code",
      "source": [
        "credit_number = \"1234-5678-2345-5678\"\n",
        "last_digits = credit_number[-4:]\n",
        "credit_number = credit_number[::-1]\n",
        "print(credit_number[8])\n",
        "print(credit_number[1:4])\n",
        "print(credit_number[5:9])\n",
        "print(credit_number[10:])\n",
        "print(credit_number[-1])\n",
        "print(credit_number[::-2])\n",
        "print(f\"XXXX-XXXX-XXXX-{last_digits}\")\n",
        "print(credit_number)"
      ],
      "metadata": {
        "colab": {
          "base_uri": "https://localhost:8080/"
        },
        "id": "nTOgKKvsWWPE",
        "outputId": "fb6d1b4d-d79d-457b-e0d2-749ae6bd4691"
      },
      "execution_count": 58,
      "outputs": [
        {
          "output_type": "stream",
          "name": "stdout",
          "text": [
            "2\n",
            "765\n",
            "5432\n",
            "8765-4321\n",
            "1\n",
            "13-6824-68\n",
            "XXXX-XXXX-XXXX-5678\n",
            "8765-5432-8765-4321\n"
          ]
        }
      ]
    },
    {
      "cell_type": "markdown",
      "source": [
        "**Email slicer exercise**"
      ],
      "metadata": {
        "id": "46e3Ea6QaR53"
      }
    },
    {
      "cell_type": "code",
      "source": [
        "email = input(\"Enter yout email address: \")\n",
        "#index = email.index(\"@\")\n",
        "\n",
        "\n",
        "username = email[: email.index(\"@\")]\n",
        "domain = email[ email.index(\"@\")+1:]\n",
        "print(f\"your username is {username} and domain is {domain}\")\n"
      ],
      "metadata": {
        "colab": {
          "base_uri": "https://localhost:8080/"
        },
        "id": "4BsBsqABaVmz",
        "outputId": "e2bdbc7f-4c0d-4392-8428-0cf8886d4854"
      },
      "execution_count": 60,
      "outputs": [
        {
          "output_type": "stream",
          "name": "stdout",
          "text": [
            "Enter yout email address: nupur123@gmail.com\n",
            "your username is nupur123 and domain is gmail.com\n"
          ]
        }
      ]
    },
    {
      "cell_type": "markdown",
      "source": [
        "**Format specifiers**"
      ],
      "metadata": {
        "id": "IdJ18i2zBxng"
      }
    },
    {
      "cell_type": "code",
      "source": [
        "price1 = 3400.23134\n",
        "price2 = -23.3457\n",
        "price3 = 290.123\n",
        "\n",
        "print(f\"price1 is {price1:,}\")\n",
        "print(f\"price2 is {price2:<10}\")\n",
        "print(f\"price3 is {price3:<10}\")"
      ],
      "metadata": {
        "colab": {
          "base_uri": "https://localhost:8080/"
        },
        "id": "Ve2qlRvlBxQo",
        "outputId": "64690e2f-e739-4e9f-f113-00e899e36859"
      },
      "execution_count": 11,
      "outputs": [
        {
          "output_type": "stream",
          "name": "stdout",
          "text": [
            "price1 is 3,400.23134\n",
            "price2 is -23.3457  \n",
            "price3 is 290.123   \n"
          ]
        }
      ]
    },
    {
      "cell_type": "markdown",
      "source": [
        "**While loop**"
      ],
      "metadata": {
        "id": "OoJfmx9WDXXj"
      }
    },
    {
      "cell_type": "code",
      "source": [
        "#name = input(\"Enter your name: \")\n",
        "\n",
        "#while name ==\"\":\n",
        "    #print(\"you didnot enter your name\")\n",
        "    #name = input(\"Enter your name: \")\n",
        "\n",
        "    #print(f\"Hello {name}\")\n",
        "\n",
        "age = int(input(\"Enter your age: \"))\n",
        "\n",
        "while age < 0:\n",
        "    print(\"Age cannot be in negative\")\n",
        "    age = int(input(\"Enter your age: \"))\n",
        "\n",
        "\n",
        "print(f\"your age is {age} years old\")"
      ],
      "metadata": {
        "colab": {
          "base_uri": "https://localhost:8080/"
        },
        "id": "SPLyUcBXEN5g",
        "outputId": "bef74afb-d7d2-490e-c472-2e941d83f6b7"
      },
      "execution_count": 20,
      "outputs": [
        {
          "output_type": "stream",
          "name": "stdout",
          "text": [
            "Enter your age: -3\n",
            "Age cannot be in negative\n",
            "Enter your age: -5\n",
            "Age cannot be in negative\n",
            "Enter your age: 50\n",
            "your age is 50 years old\n"
          ]
        }
      ]
    }
  ]
}