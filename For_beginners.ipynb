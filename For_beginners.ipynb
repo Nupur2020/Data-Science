{
  "nbformat": 4,
  "nbformat_minor": 0,
  "metadata": {
    "colab": {
      "provenance": [],
      "authorship_tag": "ABX9TyPhpQrmDTPG9cjcHEkh6AX+",
      "include_colab_link": true
    },
    "kernelspec": {
      "name": "python3",
      "display_name": "Python 3"
    },
    "language_info": {
      "name": "python"
    }
  },
  "cells": [
    {
      "cell_type": "markdown",
      "metadata": {
        "id": "view-in-github",
        "colab_type": "text"
      },
      "source": [
        "<a href=\"https://colab.research.google.com/github/Nupur2020/Data-Science/blob/main/For_beginners.ipynb\" target=\"_parent\"><img src=\"https://colab.research.google.com/assets/colab-badge.svg\" alt=\"Open In Colab\"/></a>"
      ]
    },
    {
      "cell_type": "code",
      "source": [
        "from google.colab import drive\n",
        "drive.mount('/content/drive')"
      ],
      "metadata": {
        "colab": {
          "base_uri": "https://localhost:8080/"
        },
        "id": "j2y95mVDHJ_a",
        "outputId": "e9895d72-9b50-45fa-d9de-208c139c82b8"
      },
      "execution_count": 7,
      "outputs": [
        {
          "output_type": "stream",
          "name": "stdout",
          "text": [
            "Drive already mounted at /content/drive; to attempt to forcibly remount, call drive.mount(\"/content/drive\", force_remount=True).\n"
          ]
        }
      ]
    },
    {
      "cell_type": "markdown",
      "source": [
        "To start Python and connect the file to the google drive. The above mentioned code is run and the desired google drive account will be connected"
      ],
      "metadata": {
        "id": "TDXwBhj-Y205"
      }
    },
    {
      "cell_type": "code",
      "source": [
        "cd /content/drive/MyDrive/\n"
      ],
      "metadata": {
        "colab": {
          "base_uri": "https://localhost:8080/"
        },
        "id": "VWGqNt00Ho43",
        "outputId": "7bb9c81b-fb3d-4a18-9074-2c7cc526e661"
      },
      "execution_count": 9,
      "outputs": [
        {
          "output_type": "stream",
          "name": "stdout",
          "text": [
            "/content/drive/MyDrive\n"
          ]
        }
      ]
    },
    {
      "cell_type": "markdown",
      "source": [
        "Python code to print the desired text"
      ],
      "metadata": {
        "id": "IQwaJg7XZOKQ"
      }
    },
    {
      "cell_type": "code",
      "source": [
        "print(\"I love pizza\")"
      ],
      "metadata": {
        "colab": {
          "base_uri": "https://localhost:8080/"
        },
        "id": "cmD4Zu7TPs4K",
        "outputId": "34c6a078-1fa7-4de6-922c-d7470c8eabf5"
      },
      "execution_count": 12,
      "outputs": [
        {
          "output_type": "stream",
          "name": "stdout",
          "text": [
            "I love pizza\n"
          ]
        }
      ]
    },
    {
      "cell_type": "code",
      "source": [
        "print(\"Its really good!\")"
      ],
      "metadata": {
        "colab": {
          "base_uri": "https://localhost:8080/"
        },
        "id": "Y-uxj9UlYW-e",
        "outputId": "079ed276-d916-4493-98b1-d49139820857"
      },
      "execution_count": 14,
      "outputs": [
        {
          "output_type": "stream",
          "name": "stdout",
          "text": [
            "Its really good!\n"
          ]
        }
      ]
    },
    {
      "cell_type": "markdown",
      "source": [
        "Python variables"
      ],
      "metadata": {
        "id": "TjFRxlERcywA"
      }
    },
    {
      "cell_type": "code",
      "source": [
        "age=25\n",
        "print(\"you are \" + str(age) + \" years old\")\n",
        "print (\"you are\" ,age, \"years old\")\n",
        "print (f\"you are {age} years old\")"
      ],
      "metadata": {
        "colab": {
          "base_uri": "https://localhost:8080/"
        },
        "id": "NLEbXozZfIOk",
        "outputId": "c562b5c3-1677-4882-b15a-6b4d779a59a9"
      },
      "execution_count": 21,
      "outputs": [
        {
          "output_type": "stream",
          "name": "stdout",
          "text": [
            "you are 25 years old\n",
            "you are 25 years old\n",
            "you are 25 years old\n"
          ]
        }
      ]
    },
    {
      "cell_type": "markdown",
      "source": [
        "Integers"
      ],
      "metadata": {
        "id": "S_46RSEBg3HM"
      }
    },
    {
      "cell_type": "code",
      "source": [
        "age=25\n",
        "quantity=5\n",
        "players=2\n",
        "print (f\"you are {age} years old\")\n",
        "print(f\"you would like to buy {quantity} items\")\n",
        "print (f\"There are {players} players online\")"
      ],
      "metadata": {
        "colab": {
          "base_uri": "https://localhost:8080/"
        },
        "id": "WT4LVYe7hIdP",
        "outputId": "dc7445c0-9d94-479e-a9ba-c1d17733e35e"
      },
      "execution_count": 23,
      "outputs": [
        {
          "output_type": "stream",
          "name": "stdout",
          "text": [
            "you are 25 years old\n",
            "you would like to buy 5 items\n",
            "There are 2 players online\n"
          ]
        }
      ]
    },
    {
      "cell_type": "markdown",
      "source": [
        "Float"
      ],
      "metadata": {
        "id": "8Ezri7xGiR63"
      }
    },
    {
      "cell_type": "code",
      "source": [
        "gpa=4.5\n",
        "distance=5.3\n",
        "price=9.99\n",
        "print (f\"your gpa is {gpa}\")\n",
        "print (f\"you ran {distance}km\")\n",
        "print (f\"The price is ${price}\")"
      ],
      "metadata": {
        "colab": {
          "base_uri": "https://localhost:8080/"
        },
        "id": "JDqQTbeHiTii",
        "outputId": "7f226b9a-507f-442a-f854-8208736f5125"
      },
      "execution_count": 24,
      "outputs": [
        {
          "output_type": "stream",
          "name": "stdout",
          "text": [
            "your gpa is 4.5\n",
            "you ran 5.3km\n",
            "The price is $9.99\n"
          ]
        }
      ]
    },
    {
      "cell_type": "markdown",
      "source": [
        "String"
      ],
      "metadata": {
        "id": "SzoR_bzhkJax"
      }
    },
    {
      "cell_type": "code",
      "source": [
        "Name= \"Aman\"\n",
        "Food= \"Pasta\"\n",
        "email= \"Aman12@gmail.com\"\n",
        "print (f\"Hello {Name}\")\n",
        "print (f\"you like {Food}\")\n",
        "print (f\"your email is : {email}\")\n"
      ],
      "metadata": {
        "colab": {
          "base_uri": "https://localhost:8080/"
        },
        "id": "Fcd3reYIkj23",
        "outputId": "a6bdb225-3375-4ea0-f26c-9e834ae6dbfb"
      },
      "execution_count": 26,
      "outputs": [
        {
          "output_type": "stream",
          "name": "stdout",
          "text": [
            "Hello Aman\n",
            "you like Pasta\n",
            "your email is : Aman12@gmail.com\n"
          ]
        }
      ]
    },
    {
      "cell_type": "markdown",
      "source": [
        "Boolean"
      ],
      "metadata": {
        "id": "aOHJ5QhAlS0X"
      }
    },
    {
      "cell_type": "code",
      "source": [
        "online = True\n",
        "for_sale = False\n",
        "running = True\n",
        "print (f\"Are you online?: {online}\")\n",
        "print (f\"Is the item for sale? {for_sale}\")\n",
        "print (f\"Game running : {running}\")"
      ],
      "metadata": {
        "colab": {
          "base_uri": "https://localhost:8080/"
        },
        "id": "uCUKC74blVQm",
        "outputId": "d41e5f3d-8eb2-403a-f235-7ee13cc1d346"
      },
      "execution_count": 27,
      "outputs": [
        {
          "output_type": "stream",
          "name": "stdout",
          "text": [
            "Are you online?: True\n",
            "Is the item for sale? False\n",
            "Game running : True\n"
          ]
        }
      ]
    },
    {
      "cell_type": "code",
      "source": [
        "x=y=z=3\n",
        "print(x)\n",
        "print(y)\n",
        "print(z)\n",
        "print (x, y,z)"
      ],
      "metadata": {
        "colab": {
          "base_uri": "https://localhost:8080/"
        },
        "id": "aOWWdwNcm8H0",
        "outputId": "fab26f82-950e-4793-ea41-2da684c155a8"
      },
      "execution_count": 29,
      "outputs": [
        {
          "output_type": "stream",
          "name": "stdout",
          "text": [
            "3\n",
            "3\n",
            "3\n",
            "3 3 3\n"
          ]
        }
      ]
    }
  ]
}