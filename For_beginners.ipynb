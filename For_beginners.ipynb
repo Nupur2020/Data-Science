{
  "nbformat": 4,
  "nbformat_minor": 0,
  "metadata": {
    "colab": {
      "provenance": [],
      "authorship_tag": "ABX9TyORdRP3c/+sJHXMiY6+2EWY",
      "include_colab_link": true
    },
    "kernelspec": {
      "name": "python3",
      "display_name": "Python 3"
    },
    "language_info": {
      "name": "python"
    }
  },
  "cells": [
    {
      "cell_type": "markdown",
      "metadata": {
        "id": "view-in-github",
        "colab_type": "text"
      },
      "source": [
        "<a href=\"https://colab.research.google.com/github/Nupur2020/Data-Science/blob/main/For_beginners.ipynb\" target=\"_parent\"><img src=\"https://colab.research.google.com/assets/colab-badge.svg\" alt=\"Open In Colab\"/></a>"
      ]
    },
    {
      "cell_type": "code",
      "source": [
        "from google.colab import drive\n",
        "drive.mount('/content/drive')"
      ],
      "metadata": {
        "colab": {
          "base_uri": "https://localhost:8080/"
        },
        "id": "j2y95mVDHJ_a",
        "outputId": "e9895d72-9b50-45fa-d9de-208c139c82b8"
      },
      "execution_count": null,
      "outputs": [
        {
          "output_type": "stream",
          "name": "stdout",
          "text": [
            "Drive already mounted at /content/drive; to attempt to forcibly remount, call drive.mount(\"/content/drive\", force_remount=True).\n"
          ]
        }
      ]
    },
    {
      "cell_type": "markdown",
      "source": [
        "**To start Python and connect the file to the google drive. The above mentioned code is run and the desired google drive account will be connected**"
      ],
      "metadata": {
        "id": "TDXwBhj-Y205"
      }
    },
    {
      "cell_type": "code",
      "source": [
        "cd /content/drive/MyDrive/\n"
      ],
      "metadata": {
        "colab": {
          "base_uri": "https://localhost:8080/"
        },
        "id": "VWGqNt00Ho43",
        "outputId": "7bb9c81b-fb3d-4a18-9074-2c7cc526e661"
      },
      "execution_count": null,
      "outputs": [
        {
          "output_type": "stream",
          "name": "stdout",
          "text": [
            "/content/drive/MyDrive\n"
          ]
        }
      ]
    },
    {
      "cell_type": "markdown",
      "source": [
        "**Python code to print the desired text**"
      ],
      "metadata": {
        "id": "IQwaJg7XZOKQ"
      }
    },
    {
      "cell_type": "code",
      "source": [
        "print(\"I love pizza\")"
      ],
      "metadata": {
        "colab": {
          "base_uri": "https://localhost:8080/"
        },
        "id": "cmD4Zu7TPs4K",
        "outputId": "34c6a078-1fa7-4de6-922c-d7470c8eabf5"
      },
      "execution_count": null,
      "outputs": [
        {
          "output_type": "stream",
          "name": "stdout",
          "text": [
            "I love pizza\n"
          ]
        }
      ]
    },
    {
      "cell_type": "code",
      "source": [
        "print(\"Its really good!\")"
      ],
      "metadata": {
        "colab": {
          "base_uri": "https://localhost:8080/"
        },
        "id": "Y-uxj9UlYW-e",
        "outputId": "079ed276-d916-4493-98b1-d49139820857"
      },
      "execution_count": null,
      "outputs": [
        {
          "output_type": "stream",
          "name": "stdout",
          "text": [
            "Its really good!\n"
          ]
        }
      ]
    },
    {
      "cell_type": "markdown",
      "source": [
        "**Python variables**"
      ],
      "metadata": {
        "id": "TjFRxlERcywA"
      }
    },
    {
      "cell_type": "code",
      "source": [
        "age=25\n",
        "print(\"you are \" + str(age) + \" years old\")\n",
        "print (\"you are\" ,age, \"years old\")\n",
        "print (f\"you are {age} years old\")"
      ],
      "metadata": {
        "colab": {
          "base_uri": "https://localhost:8080/"
        },
        "id": "NLEbXozZfIOk",
        "outputId": "c562b5c3-1677-4882-b15a-6b4d779a59a9"
      },
      "execution_count": null,
      "outputs": [
        {
          "output_type": "stream",
          "name": "stdout",
          "text": [
            "you are 25 years old\n",
            "you are 25 years old\n",
            "you are 25 years old\n"
          ]
        }
      ]
    },
    {
      "cell_type": "markdown",
      "source": [
        "**Integers**"
      ],
      "metadata": {
        "id": "S_46RSEBg3HM"
      }
    },
    {
      "cell_type": "code",
      "source": [
        "age=25\n",
        "quantity=5\n",
        "players=2\n",
        "print (f\"you are {age} years old\")\n",
        "print(f\"you would like to buy {quantity} items\")\n",
        "print (f\"There are {players} players online\")"
      ],
      "metadata": {
        "colab": {
          "base_uri": "https://localhost:8080/"
        },
        "id": "WT4LVYe7hIdP",
        "outputId": "dc7445c0-9d94-479e-a9ba-c1d17733e35e"
      },
      "execution_count": null,
      "outputs": [
        {
          "output_type": "stream",
          "name": "stdout",
          "text": [
            "you are 25 years old\n",
            "you would like to buy 5 items\n",
            "There are 2 players online\n"
          ]
        }
      ]
    },
    {
      "cell_type": "markdown",
      "source": [
        "**Float**"
      ],
      "metadata": {
        "id": "8Ezri7xGiR63"
      }
    },
    {
      "cell_type": "code",
      "source": [
        "gpa=4.5\n",
        "distance=5.3\n",
        "price=9.99\n",
        "print (f\"your gpa is {gpa}\")\n",
        "print (f\"you ran {distance}km\")\n",
        "print (f\"The price is ${price}\")"
      ],
      "metadata": {
        "colab": {
          "base_uri": "https://localhost:8080/"
        },
        "id": "JDqQTbeHiTii",
        "outputId": "7f226b9a-507f-442a-f854-8208736f5125"
      },
      "execution_count": null,
      "outputs": [
        {
          "output_type": "stream",
          "name": "stdout",
          "text": [
            "your gpa is 4.5\n",
            "you ran 5.3km\n",
            "The price is $9.99\n"
          ]
        }
      ]
    },
    {
      "cell_type": "markdown",
      "source": [
        "**String**"
      ],
      "metadata": {
        "id": "SzoR_bzhkJax"
      }
    },
    {
      "cell_type": "code",
      "source": [
        "Name= \"Aman\"\n",
        "Food= \"Pasta\"\n",
        "email= \"Aman12@gmail.com\"\n",
        "print (f\"Hello {Name}\")\n",
        "print (f\"you like {Food}\")\n",
        "print (f\"your email is : {email}\")\n"
      ],
      "metadata": {
        "colab": {
          "base_uri": "https://localhost:8080/"
        },
        "id": "Fcd3reYIkj23",
        "outputId": "a6bdb225-3375-4ea0-f26c-9e834ae6dbfb"
      },
      "execution_count": null,
      "outputs": [
        {
          "output_type": "stream",
          "name": "stdout",
          "text": [
            "Hello Aman\n",
            "you like Pasta\n",
            "your email is : Aman12@gmail.com\n"
          ]
        }
      ]
    },
    {
      "cell_type": "markdown",
      "source": [
        "**Boolean**"
      ],
      "metadata": {
        "id": "aOHJ5QhAlS0X"
      }
    },
    {
      "cell_type": "code",
      "source": [
        "online = True\n",
        "for_sale = False\n",
        "running = True\n",
        "print (f\"Are you online?: {online}\")\n",
        "print (f\"Is the item for sale? {for_sale}\")\n",
        "print (f\"Game running : {running}\")"
      ],
      "metadata": {
        "colab": {
          "base_uri": "https://localhost:8080/"
        },
        "id": "uCUKC74blVQm",
        "outputId": "d41e5f3d-8eb2-403a-f235-7ee13cc1d346"
      },
      "execution_count": null,
      "outputs": [
        {
          "output_type": "stream",
          "name": "stdout",
          "text": [
            "Are you online?: True\n",
            "Is the item for sale? False\n",
            "Game running : True\n"
          ]
        }
      ]
    },
    {
      "cell_type": "code",
      "source": [
        "x=y=z=3\n",
        "print(x)\n",
        "print(y)\n",
        "print(z)\n",
        "print (x, y,z)"
      ],
      "metadata": {
        "colab": {
          "base_uri": "https://localhost:8080/"
        },
        "id": "aOWWdwNcm8H0",
        "outputId": "fab26f82-950e-4793-ea41-2da684c155a8"
      },
      "execution_count": null,
      "outputs": [
        {
          "output_type": "stream",
          "name": "stdout",
          "text": [
            "3\n",
            "3\n",
            "3\n",
            "3 3 3\n"
          ]
        }
      ]
    },
    {
      "cell_type": "markdown",
      "source": [
        "**Typecasting- Explicit vs implicit**"
      ],
      "metadata": {
        "id": "ffMuCE1RO4sZ"
      }
    },
    {
      "cell_type": "code",
      "source": [
        "Name = \"Ciya\"\n",
        "gpa = 2.3\n",
        "age = 25\n",
        "Student = True\n",
        "\n",
        "print(type(Name))\n",
        "print(type(gpa))\n",
        "print(type(age))\n",
        "print(type(Student))\n",
        "\n",
        "age = float(age)\n",
        "print(age)\n",
        "print(type(age))\n",
        "\n",
        "gpa = int(gpa)\n",
        "print(gpa)\n",
        "print(type(gpa))\n",
        "\n",
        "Student = str(Student)\n",
        "print(Student)\n",
        "print(type(Student))\n",
        "\n",
        "age = bool(age)\n",
        "print(age)\n",
        "print(type(age))\n",
        "\n",
        "Name = bool(Name)\n",
        "print(Name)\n",
        "print(type(Name))\n",
        "\n",
        "x = 2\n",
        "y = 2.0\n",
        "print(type(x))\n",
        "x = x/y\n",
        "print(x)\n",
        "print(type(x))"
      ],
      "metadata": {
        "colab": {
          "base_uri": "https://localhost:8080/"
        },
        "id": "y5clrib_O7aY",
        "outputId": "68eeb4d3-bf47-4ba0-82d9-6b60a08e70d5"
      },
      "execution_count": null,
      "outputs": [
        {
          "output_type": "stream",
          "name": "stdout",
          "text": [
            "<class 'str'>\n",
            "<class 'float'>\n",
            "<class 'int'>\n",
            "<class 'bool'>\n",
            "25.0\n",
            "<class 'float'>\n",
            "2\n",
            "<class 'int'>\n",
            "True\n",
            "<class 'str'>\n",
            "True\n",
            "<class 'bool'>\n",
            "True\n",
            "<class 'bool'>\n",
            "<class 'int'>\n",
            "1.0\n",
            "<class 'float'>\n"
          ]
        }
      ]
    },
    {
      "cell_type": "markdown",
      "source": [
        "**User input function**"
      ],
      "metadata": {
        "id": "O7-bFL22Tp2m"
      }
    },
    {
      "cell_type": "code",
      "source": [
        "name = input(\"Enter your name: \")\n",
        "age= input(\"Enter your age: \")\n",
        "age = int(age)\n",
        "age = float(input(\"Enter your age: \"))\n",
        "age = age+1\n",
        "print(f\"Hello {name}\")\n",
        "print(f\"you are {age} years old\")\n"
      ],
      "metadata": {
        "colab": {
          "base_uri": "https://localhost:8080/"
        },
        "id": "URUqhNshT91z",
        "outputId": "fc684d31-a777-4b10-bde1-993de5ec96e6"
      },
      "execution_count": null,
      "outputs": [
        {
          "output_type": "stream",
          "name": "stdout",
          "text": [
            "Enter your name: Ciya\n",
            "Enter your age: 25\n",
            "Enter your age: 25\n",
            "Hello Ciya\n",
            "you are 26.0 years old\n"
          ]
        }
      ]
    },
    {
      "cell_type": "markdown",
      "source": [
        "**Example exercise- Madlibs**"
      ],
      "metadata": {
        "id": "Fo9dRdnKV2c4"
      }
    },
    {
      "cell_type": "code",
      "source": [
        "adjective = input(\"Enter an adjective: \")\n",
        "noun = input(\"Enter a noun: \")\n",
        "adjective1 = input(\"Enter an adjective: \")\n",
        "verb = input(\"Enter a verb: \")\n",
        "adjective2 = input(\"Enter an adjective: \")\n",
        "\n",
        "print(f\"Today I went to a {adjective} zoo\")\n",
        "print(f\"In an exhibit i saw {noun}\")\n",
        "print(f\"{noun} was {adjective1} and {verb}ing\")\n",
        "print(f\"I was {adjective2}\")"
      ],
      "metadata": {
        "colab": {
          "base_uri": "https://localhost:8080/"
        },
        "id": "1sQbWdESV6z9",
        "outputId": "1db8c7e0-b643-46fd-ca1e-a2fd103f2c61"
      },
      "execution_count": null,
      "outputs": [
        {
          "output_type": "stream",
          "name": "stdout",
          "text": [
            "Enter an adjective: Vast\n",
            "Enter a noun: Monkey\n",
            "Enter an adjective: Dirty\n",
            "Enter a verb: climb\n",
            "Enter an adjective: Shocked\n",
            "Today I went to a Vast zoo\n",
            "In an exhibit i saw Monkey\n",
            "Monkey was Dirty and climbing\n",
            "I was Shocked\n"
          ]
        }
      ]
    },
    {
      "cell_type": "markdown",
      "source": [
        "**Example exercise - Area Calculator**"
      ],
      "metadata": {
        "id": "ish_jlpdbzgh"
      }
    },
    {
      "cell_type": "code",
      "source": [
        "from os import W_OK\n",
        "length = float(input(\"Enter the length of a rectangle: \"))\n",
        "Width = float(input(\"Enter the width of a rectangle: \"))\n",
        "height = float(input(\"Enter the height of a rectangle: \"))\n",
        "\n",
        "volume = length*Width*height\n",
        "print(f\"The volume of a rectangle is {volume}cm^3\")\n",
        "\n",
        "length = float(input(\"Enter the length of a rectangle: \"))\n",
        "Width = float(input(\"Enter the width of a rectangle: \"))\n",
        "\n",
        "area = length*Width\n",
        "print(f\"The area of a rectangle is {area}cm^2\")"
      ],
      "metadata": {
        "colab": {
          "base_uri": "https://localhost:8080/"
        },
        "id": "uau4kq-yb79A",
        "outputId": "fce244b3-60f6-4130-b85e-81fefca75751"
      },
      "execution_count": null,
      "outputs": [
        {
          "output_type": "stream",
          "name": "stdout",
          "text": [
            "Enter the length of a rectangle: 7\n",
            "Enter the width of a rectangle: 4\n",
            "Enter the height of a rectangle: 5\n",
            "The volume of a rectangle is 140.0cm^3\n",
            "Enter the length of a rectangle: 7\n",
            "Enter the width of a rectangle: 4\n",
            "The area of a rectangle is 28.0cm^2\n"
          ]
        }
      ]
    },
    {
      "cell_type": "markdown",
      "source": [
        "**Example exercise-Shopping cart**"
      ],
      "metadata": {
        "id": "Cbch-chWfax3"
      }
    },
    {
      "cell_type": "markdown",
      "source": [],
      "metadata": {
        "id": "pMmLCtZ_fg2D"
      }
    }
  ]
}